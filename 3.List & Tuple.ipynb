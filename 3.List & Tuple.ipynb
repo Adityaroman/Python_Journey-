{
 "cells": [
  {
   "cell_type": "code",
   "execution_count": 6,
   "id": "79804d8f-da89-41c1-a582-4dd20d00354a",
   "metadata": {},
   "outputs": [
    {
     "ename": "NameError",
     "evalue": "name 'hello' is not defined",
     "output_type": "error",
     "traceback": [
      "\u001b[1;31m---------------------------------------------------------------------------\u001b[0m",
      "\u001b[1;31mNameError\u001b[0m                                 Traceback (most recent call last)",
      "Cell \u001b[1;32mIn[6], line 4\u001b[0m\n\u001b[0;32m      1\u001b[0m \u001b[38;5;66;03m# List is a build in data types that stores set of values --->(it can store elements of different types like integer, float, string, etc...)\u001b[39;00m\n\u001b[0;32m      2\u001b[0m \u001b[38;5;66;03m# List is mutable in python it means you can Modifying(add) an element in the list\u001b[39;00m\n\u001b[0;32m      3\u001b[0m \u001b[38;5;66;03m# Strings are immutable you can't change it further(\"hello\") because it dosen't have any indexing system maybe\u001b[39;00m\n\u001b[1;32m----> 4\u001b[0m \u001b[38;5;28mprint\u001b[39m(hello)\n",
      "\u001b[1;31mNameError\u001b[0m: name 'hello' is not defined"
     ]
    }
   ],
   "source": [
    "# List is a build in data types that stores set of values --->(it can store elements of different types like integer, float, string, etc...)\n",
    "# List is mutable in python it means you can Modifying(add) an element in the list\n",
    "# Strings are immutable you can't change it further(\"hello\") because it dosen't have any indexing system maybe"
   ]
  },
  {
   "cell_type": "code",
   "execution_count": 12,
   "id": "40d12fac-f5ce-4714-85af-105d929585fb",
   "metadata": {},
   "outputs": [
    {
     "name": "stdout",
     "output_type": "stream",
     "text": [
      "['aditya', 55.7, 99, 'Delhi']\n"
     ]
    }
   ],
   "source": [
    "#1\n",
    "Student=[\"aditya\",55.7,99,\"Delhi\"]\n",
    "print(Student)"
   ]
  },
  {
   "cell_type": "code",
   "execution_count": 29,
   "id": "6cc778ae-22e4-40a9-b6dd-e3e03012449f",
   "metadata": {},
   "outputs": [
    {
     "name": "stdout",
     "output_type": "stream",
     "text": [
      "[54, 65, 78, 98, 45, 99, 7454, 67, 87]\n",
      "<class 'list'>\n",
      "54\n",
      "65\n",
      "9\n"
     ]
    }
   ],
   "source": [
    "#2\n",
    "marks=[54,65,78,98,45,99,7454,67,87]\n",
    "print(marks)\n",
    "print(type(marks))\n",
    "print(marks[0])\n",
    "print(marks[1])\n",
    "print(len(marks))"
   ]
  },
  {
   "cell_type": "code",
   "execution_count": 16,
   "id": "170fe4dc-5dd1-48bc-beb6-26a951807dcc",
   "metadata": {},
   "outputs": [
    {
     "name": "stdout",
     "output_type": "stream",
     "text": [
      "H\n"
     ]
    },
    {
     "ename": "TypeError",
     "evalue": "'str' object does not support item assignment",
     "output_type": "error",
     "traceback": [
      "\u001b[1;31m---------------------------------------------------------------------------\u001b[0m",
      "\u001b[1;31mTypeError\u001b[0m                                 Traceback (most recent call last)",
      "Cell \u001b[1;32mIn[16], line 4\u001b[0m\n\u001b[0;32m      2\u001b[0m \u001b[38;5;28mstr\u001b[39m\u001b[38;5;241m=\u001b[39m\u001b[38;5;124m\"\u001b[39m\u001b[38;5;124mHello\u001b[39m\u001b[38;5;124m\"\u001b[39m\n\u001b[0;32m      3\u001b[0m \u001b[38;5;28mprint\u001b[39m(\u001b[38;5;28mstr\u001b[39m[\u001b[38;5;241m0\u001b[39m])\n\u001b[1;32m----> 4\u001b[0m \u001b[38;5;28mstr\u001b[39m[\u001b[38;5;241m0\u001b[39m]\u001b[38;5;241m=\u001b[39m\u001b[38;5;124m\"\u001b[39m\u001b[38;5;124mY\u001b[39m\u001b[38;5;124m\"\u001b[39m\n",
      "\u001b[1;31mTypeError\u001b[0m: 'str' object does not support item assignment"
     ]
    }
   ],
   "source": [
    "#3 in sreing\n",
    "str=\"Hello\"\n",
    "print(str[0])\n",
    "str[0]=\"Y\""
   ]
  },
  {
   "cell_type": "code",
   "execution_count": 36,
   "id": "ae6cd91f-c285-4034-bfa4-9ea3611d605b",
   "metadata": {},
   "outputs": [
    {
     "name": "stdout",
     "output_type": "stream",
     "text": [
      "Delhi\n",
      "['b', 55.7, 99, 'Delhi']\n"
     ]
    }
   ],
   "source": [
    "#in list\n",
    "Student = [\"aditya\",55.7,99,\"Delhi\"]\n",
    "print(Student[3])\n",
    "Student[0] = \"b\"\n",
    "print(Student)"
   ]
  },
  {
   "cell_type": "code",
   "execution_count": 60,
   "id": "46d23a88-1478-49ab-b913-09f89d18ec8b",
   "metadata": {},
   "outputs": [
    {
     "name": "stdout",
     "output_type": "stream",
     "text": [
      "[33, 44, 55, 77, 88]\n",
      "[33, 44, 55, 77, 88, 99]\n",
      "[33, 44, 55, 77, 88]\n",
      "[55, 77, 88]\n"
     ]
    }
   ],
   "source": [
    "num = [33,44,55,77,88,99]\n",
    "print(num[0:5])\n",
    "\n",
    "num = [33,44,55,77,88,99]\n",
    "print(num[0:])\n",
    "\n",
    "num = [33,44,55,77,88,99]\n",
    "print(num[:5])\n",
    "\n",
    "num = [33,44,55,77,88,99]\n",
    "print(num[-4:-1])"
   ]
  },
  {
   "cell_type": "code",
   "execution_count": 66,
   "id": "3c0b03b4-af69-4a83-9cb5-e324aeb54f19",
   "metadata": {},
   "outputs": [
    {
     "name": "stdout",
     "output_type": "stream",
     "text": [
      "[1, 2, 3, 4]\n"
     ]
    }
   ],
   "source": [
    "#List methods\n",
    "#1 list.append(4)\n",
    "list=[1,2,3]\n",
    "list.append(4)\n",
    "print(list)"
   ]
  },
  {
   "cell_type": "code",
   "execution_count": 70,
   "id": "cf4a3c29-e22a-40f0-9f3c-ead6d1232c02",
   "metadata": {},
   "outputs": [
    {
     "name": "stdout",
     "output_type": "stream",
     "text": [
      "None\n",
      "[1, 2, 3]\n"
     ]
    }
   ],
   "source": [
    "list=[1,2,3]\n",
    "print(list.sort())\n",
    "print(list)"
   ]
  },
  {
   "cell_type": "code",
   "execution_count": 78,
   "id": "27eaedc9-c960-446d-a918-45990f9b459a",
   "metadata": {},
   "outputs": [
    {
     "name": "stdout",
     "output_type": "stream",
     "text": [
      "None\n",
      "[1, 2, 3, 4]\n",
      "None\n",
      "[1, 2, 3, 4]\n"
     ]
    }
   ],
   "source": [
    "#to add\n",
    "list=[1,2,3]\n",
    "print(list.append(4))\n",
    "print(list)\n",
    "print(list.sort())\n",
    "print(list)"
   ]
  },
  {
   "cell_type": "code",
   "execution_count": 80,
   "id": "fedcf468-a7eb-4b54-8509-ed29ab76cb62",
   "metadata": {},
   "outputs": [
    {
     "name": "stdout",
     "output_type": "stream",
     "text": [
      "None\n",
      "[3, 2, 1]\n"
     ]
    }
   ],
   "source": [
    "#to sort in decending order\n",
    "list=[1,2,3]\n",
    "print(list.sort(reverse=True))\n",
    "print(list)"
   ]
  },
  {
   "cell_type": "code",
   "execution_count": 92,
   "id": "aa94dfc6-1934-4e36-8546-86e0251c473f",
   "metadata": {},
   "outputs": [
    {
     "name": "stdout",
     "output_type": "stream",
     "text": [
      "None\n",
      "['a', 'b', 'c', 'd', 'e', 'f']\n"
     ]
    }
   ],
   "source": [
    "#to sort in assending order\n",
    "list =['a','c','b','e','d','f']\n",
    "print(list.sort())\n",
    "print(list)"
   ]
  },
  {
   "cell_type": "code",
   "execution_count": 2,
   "id": "3daf937d-04d6-42ac-a2b2-708352ba3e52",
   "metadata": {},
   "outputs": [
    {
     "name": "stdout",
     "output_type": "stream",
     "text": [
      "['b', 'c', 'e', 'd', 'a']\n",
      "dlrow olleh\n",
      "drwolh\n",
      "433\n"
     ]
    }
   ],
   "source": [
    "#to reverse\n",
    "list= ['a','d','e','c','b']\n",
    "list.reverse()\n",
    "print(list)\n",
    "\n",
    "\n",
    "#to reverse\n",
    "str=\"hello world\"\n",
    "print(str[::-1])\n",
    "\n",
    "str=\"hello world\" \n",
    "print(str[::-2])#jumps two space\n",
    "\n",
    "\n",
    "x=\"334\"\n",
    "y=\"555\"\n",
    "print(x[::-1])"
   ]
  },
  {
   "cell_type": "code",
   "execution_count": 100,
   "id": "99fa6005-612e-4363-a4b9-3ddaa2b8511a",
   "metadata": {},
   "outputs": [
    {
     "name": "stdout",
     "output_type": "stream",
     "text": [
      "[1, 2, 3, 5, 4, 5, 6]\n"
     ]
    }
   ],
   "source": [
    "#to insert at certain index\n",
    "list=[1, 2, 3, 4, 5, 6]\n",
    "list.insert(3,5)\n",
    "print(list)"
   ]
  },
  {
   "cell_type": "code",
   "execution_count": 102,
   "id": "01e10623-62be-4773-864e-829ff6b14a9b",
   "metadata": {},
   "outputs": [
    {
     "name": "stdout",
     "output_type": "stream",
     "text": [
      "[2, 3, 4, 5, 6]\n"
     ]
    }
   ],
   "source": [
    "#remove first oucerence of that provided element \n",
    "list=[1, 2, 3, 4, 5, 6]\n",
    "list.remove(1)\n",
    "print(list)"
   ]
  },
  {
   "cell_type": "code",
   "execution_count": 106,
   "id": "a979b395-d6ed-42eb-94a5-7d9dd450543e",
   "metadata": {},
   "outputs": [
    {
     "name": "stdout",
     "output_type": "stream",
     "text": [
      "[1, 2, 4, 5, 6]\n"
     ]
    }
   ],
   "source": [
    "# removes element at index\n",
    "list=[1, 2, 3, 4, 5, 6]\n",
    "list.pop(2)\n",
    "print(list)"
   ]
  },
  {
   "cell_type": "code",
   "execution_count": 112,
   "id": "d187b9cd-dd85-4b05-bd41-b8142257b492",
   "metadata": {},
   "outputs": [
    {
     "name": "stdout",
     "output_type": "stream",
     "text": [
      "<class 'tuple'>\n",
      "1\n",
      "2\n"
     ]
    }
   ],
   "source": [
    "# Tuple a build in data type that lest us creat immutable sequences of values\n",
    "tup=(1,2,3,4)\n",
    "print(type(tup))\n",
    "print(tup[0])\n",
    "print(tup[1])"
   ]
  },
  {
   "cell_type": "code",
   "execution_count": 6,
   "id": "c5208842-3c0b-4281-ab06-f24349fa292d",
   "metadata": {},
   "outputs": [
    {
     "name": "stdout",
     "output_type": "stream",
     "text": [
      "[1, 2, 3, 4, 5]\n",
      "<class 'range'>\n"
     ]
    }
   ],
   "source": [
    "numbers = range(1, 6) # Creates a range from 1 to 5 # Converting range to a list for \n",
    "print(list(numbers))\n",
    "print(type(numbers))\n"
   ]
  },
  {
   "cell_type": "code",
   "execution_count": 118,
   "id": "125f8e05-c905-4ac7-b2d2-16898639dd8d",
   "metadata": {},
   "outputs": [
    {
     "name": "stdout",
     "output_type": "stream",
     "text": [
      "(1,)\n",
      "1\n",
      "<class 'int'>\n"
     ]
    }
   ],
   "source": [
    "#to print single value tuple use ,(comma)\n",
    "tup=(1,)\n",
    "print(tup)\n",
    "tup2=(1)\n",
    "print(tup2)\n",
    "print(type(tup2))"
   ]
  },
  {
   "cell_type": "code",
   "execution_count": 126,
   "id": "f31565b6-49fb-4436-9014-2ccbba461cb0",
   "metadata": {},
   "outputs": [
    {
     "name": "stdout",
     "output_type": "stream",
     "text": [
      "(1, 2, 3, 4)\n",
      "(1, 2, 3, 4, 5, 6)\n"
     ]
    }
   ],
   "source": [
    "tup=(1, 2, 3, 4, 5, 6)\n",
    "print(tup[0:4])\n",
    "print(tup)"
   ]
  },
  {
   "cell_type": "code",
   "execution_count": 132,
   "id": "a295499f-9bbf-45f3-8706-44d4a613b043",
   "metadata": {},
   "outputs": [
    {
     "name": "stdout",
     "output_type": "stream",
     "text": [
      "4\n",
      "4\n"
     ]
    }
   ],
   "source": [
    "#Tuple methods\n",
    "#1\n",
    "tup=(1,2,3,4,5,6)\n",
    "print(tup.index(5))\n",
    "#2\n",
    "tup=(1,2,2,2,2,3,4,5,6)\n",
    "print(tup.count(2))"
   ]
  },
  {
   "cell_type": "code",
   "execution_count": 134,
   "id": "fc74b8bf-e908-4e34-b2db-5ee203b65dd4",
   "metadata": {},
   "outputs": [
    {
     "name": "stdin",
     "output_type": "stream",
     "text": [
      "enter your first favorite movie:  aa\n",
      "enter your second favorite movie:  bb\n",
      "enter your third favorite movie:  cc\n"
     ]
    },
    {
     "name": "stdout",
     "output_type": "stream",
     "text": [
      "['aa', 'bb', 'cc']\n"
     ]
    }
   ],
   "source": [
    "#Wap to ask the users to enter their favorite movie and store them in a list\n",
    "movies=[]\n",
    "mov1=input(\"enter your first favorite movie: \")\n",
    "mov2=input(\"enter your second favorite movie: \")\n",
    "mov3=input(\"enter your third favorite movie: \")\n",
    "\n",
    "movies.append(mov1)\n",
    "movies.append(mov2)\n",
    "movies.append(mov3)\n",
    "print(movies)"
   ]
  },
  {
   "cell_type": "code",
   "execution_count": 136,
   "id": "3ad7768e-6db8-425c-b840-47457737a7ec",
   "metadata": {},
   "outputs": [
    {
     "name": "stdin",
     "output_type": "stream",
     "text": [
      "enter 1st movie:  aa\n",
      "enter 2nd movie:  bb\n",
      "enter 3rd movie:  cc\n"
     ]
    },
    {
     "name": "stdout",
     "output_type": "stream",
     "text": [
      "['aa', 'bb', 'cc']\n"
     ]
    }
   ],
   "source": [
    "#or\n",
    "movies=[]\n",
    "mov=input(\"enter 1st movie: \")\n",
    "movies.append(mov)\n",
    "mov=input(\"enter 2nd movie: \")\n",
    "movies.append(mov)\n",
    "mov=input(\"enter 3rd movie: \")\n",
    "movies.append(mov)\n",
    "\n",
    "print(movies)\n"
   ]
  },
  {
   "cell_type": "code",
   "execution_count": 138,
   "id": "4ea343fc-2a8b-47ea-a86f-96815076fc34",
   "metadata": {},
   "outputs": [
    {
     "name": "stdin",
     "output_type": "stream",
     "text": [
      "enter 1st movie:  aa\n",
      "enter 2nd movie:  bb\n",
      "enter 3rd movie:  cc\n"
     ]
    },
    {
     "name": "stdout",
     "output_type": "stream",
     "text": [
      "[]\n"
     ]
    }
   ],
   "source": [
    "# also or\n",
    "movies=[]\n",
    "mov=input(\"enter 1st movie: \")\n",
    "mov=input(\"enter 2nd movie: \")\n",
    "mov=input(\"enter 3rd movie: \")\n",
    "\n",
    "print(movies)"
   ]
  },
  {
   "cell_type": "code",
   "execution_count": 150,
   "id": "10083b13-b9d8-420f-90c3-f3b50899bf38",
   "metadata": {},
   "outputs": [
    {
     "name": "stdout",
     "output_type": "stream",
     "text": [
      "palindrome\n"
     ]
    }
   ],
   "source": [
    "# to check weather its palindrome or not\n",
    "list1=[1,2,1,]\n",
    "copyL=list1.copy()\n",
    "copyL.reverse()\n",
    "if(copyL==list1):\n",
    "    print(\"palindrome\")\n",
    "else:\n",
    "    print(\"Not palindrome\")\n",
    "\n",
    "\n"
   ]
  },
  {
   "cell_type": "code",
   "execution_count": 180,
   "id": "6bdae20c-55a6-41b5-9385-349bf672ce44",
   "metadata": {},
   "outputs": [
    {
     "name": "stdout",
     "output_type": "stream",
     "text": [
      "3\n"
     ]
    }
   ],
   "source": [
    "#Wap to count the number of students with the \"A\" gread in the following tuple\n",
    "sectionB=(\"c\",\"d\",\"a\",\"a\",\"b\",\"b\",\"a\")\n",
    "sectionB=(sectionB.count(\"a\"))\n",
    "print(sectionB)\n"
   ]
  },
  {
   "cell_type": "code",
   "execution_count": 182,
   "id": "b61dd0f5-5eda-4dc9-be3b-ad813e8710a7",
   "metadata": {},
   "outputs": [
    {
     "name": "stdout",
     "output_type": "stream",
     "text": [
      "['a', 'a', 'a', 'b', 'b', 'c', 'd']\n"
     ]
    }
   ],
   "source": [
    "#sort the above value in a list and sort them from \"A\" to \"D\"\n",
    "sectionB=[\"c\",\"d\",\"a\",\"a\",\"b\",\"b\",\"a\"]\n",
    "sectionB.sort()\n",
    "print(sectionB)"
   ]
  }
 ],
 "metadata": {
  "kernelspec": {
   "display_name": "Python 3 (ipykernel)",
   "language": "python",
   "name": "python3"
  },
  "language_info": {
   "codemirror_mode": {
    "name": "ipython",
    "version": 3
   },
   "file_extension": ".py",
   "mimetype": "text/x-python",
   "name": "python",
   "nbconvert_exporter": "python",
   "pygments_lexer": "ipython3",
   "version": "3.11.7"
  }
 },
 "nbformat": 4,
 "nbformat_minor": 5
}
