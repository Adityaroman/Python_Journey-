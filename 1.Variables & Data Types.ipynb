{
 "cells": [
  {
   "cell_type": "code",
   "execution_count": null,
   "id": "98e43f08-cead-4458-bad3-096f54368241",
   "metadata": {},
   "outputs": [],
   "source": [
    "#INputs in Python\n",
    "name = input(\"Enter your name: \")  # Takes input as a string\n",
    "age = int(input(\"Enter your age: \"))  # Converts input to integer\n"
   ]
  },
  {
   "cell_type": "code",
   "execution_count": null,
   "id": "b5249a51-e4d0-48ab-aabb-1ddd5af4fb38",
   "metadata": {},
   "outputs": [],
   "source": [
    "def greet(name=\"Aditya\"):  \n",
    "    print(f\"Hello, {name}!\")\n",
    "greet()  # Uses default value \"Aditya\"\n"
   ]
  },
  {
   "cell_type": "code",
   "execution_count": 3,
   "id": "be039ac1-015c-4837-a88f-7dbc74fd613f",
   "metadata": {},
   "outputs": [
    {
     "name": "stdout",
     "output_type": "stream",
     "text": [
      "-f\n"
     ]
    }
   ],
   "source": [
    "import sys\n",
    "print(sys.argv[1])  # Takes input from the command line\n",
    "\n",
    "\n",
    "# Output:\n",
    "\n",
    "# Hello\n",
    "\n",
    "# Explanation:\n",
    "\n",
    "# sys.argv[0] → \"script.py\" (script name)\n",
    "# sys.argv[1] → \"Hello\" (first argument)"
   ]
  },
  {
   "cell_type": "code",
   "execution_count": null,
   "id": "f90d2314-25e3-43d4-b79d-335260521151",
   "metadata": {},
   "outputs": [],
   "source": [
    "with open(\"data.txt\", \"r\") as file:\n",
    "    content = file.read()\n",
    "    print(content)\n"
   ]
  },
  {
   "cell_type": "code",
   "execution_count": null,
   "id": "df3a8243-24c1-4e37-bb83-ec11f4ec1adb",
   "metadata": {},
   "outputs": [],
   "source": [
    "import sys\n",
    "print(\"Arguments:\", sys.argv[1:])  # Prints all arguments except script name"
   ]
  },
  {
   "cell_type": "code",
   "execution_count": null,
   "id": "ec9ff955-512f-49f7-822b-d943756e9e53",
   "metadata": {},
   "outputs": [],
   "source": [
    "import sys\n",
    "\n",
    "# Check if an argument is provided\n",
    "if len(sys.argv) > 1:\n",
    "    print(\"First argument:\", sys.argv[1])\n",
    "else:\n",
    "    print(\"No argument provided!\")\n"
   ]
  },
  {
   "cell_type": "code",
   "execution_count": null,
   "id": "ad1e349f-ebf5-4fe1-98c5-bc9a605d0b42",
   "metadata": {},
   "outputs": [],
   "source": [
    "import sys\n",
    "filename = sys.argv[1]\n",
    "with open(filename, \"r\") as f:\n",
    "    print(f.read())\n",
    "#python read_file.py data.txt (run in terminal u'll get the output')"
   ]
  },
  {
   "cell_type": "code",
   "execution_count": null,
   "id": "9ac9895a-1336-4cbc-ac07-540773a1e458",
   "metadata": {},
   "outputs": [],
   "source": [
    "import sys\n",
    "num1 = int(sys.argv[1])\n",
    "num2 = int(sys.argv[2])\n",
    "print(\"Sum:\", num1 + num2)\n",
    "#python sum.py 10 20  (Write in terminal)"
   ]
  },
  {
   "cell_type": "code",
   "execution_count": null,
   "id": "875074de-d6be-4557-8639-784867634fd3",
   "metadata": {},
   "outputs": [],
   "source": []
  },
  {
   "cell_type": "code",
   "execution_count": 6,
   "id": "8e17ad3d-5a99-4f24-a63f-2394d1a325e0",
   "metadata": {},
   "outputs": [
    {
     "name": "stdout",
     "output_type": "stream",
     "text": [
      "800\n"
     ]
    }
   ],
   "source": [
    "a = 1000\n",
    "b = 200\n",
    "diff = (a-b)\n",
    "print(diff)"
   ]
  },
  {
   "cell_type": "code",
   "execution_count": 12,
   "id": "8457ebed-64e6-4a10-9835-d0613286b5a9",
   "metadata": {},
   "outputs": [
    {
     "name": "stdout",
     "output_type": "stream",
     "text": [
      "12\n",
      "8\n",
      "5.0\n",
      "20\n",
      "0\n",
      "100\n"
     ]
    }
   ],
   "source": [
    "a = 10\n",
    "b = 2\n",
    "print(a+b)\n",
    "print(a-b)\n",
    "print(a/b)\n",
    "print(a*b)\n",
    "print(a%b)#reminder\n",
    "print(a**b)#power(a^b)"
   ]
  },
  {
   "cell_type": "code",
   "execution_count": 16,
   "id": "89031f39-f3db-4d96-8ee6-2e06fa6fa039",
   "metadata": {},
   "outputs": [
    {
     "name": "stdout",
     "output_type": "stream",
     "text": [
      "False\n",
      "True\n"
     ]
    }
   ],
   "source": [
    "a=10\n",
    "b=30\n",
    "print(a==b)\n",
    "print(a!=b)"
   ]
  },
  {
   "cell_type": "code",
   "execution_count": 18,
   "id": "dd2b9a3c-7281-4cf9-b7ad-291fd04ed0fc",
   "metadata": {},
   "outputs": [
    {
     "name": "stdout",
     "output_type": "stream",
     "text": [
      "num : 20\n"
     ]
    }
   ],
   "source": [
    "num = 10\n",
    "num = num+10\n",
    "print(\"num :\", num)"
   ]
  },
  {
   "cell_type": "code",
   "execution_count": 20,
   "id": "15bc197e-1235-45bd-bd07-9ab493560bd6",
   "metadata": {},
   "outputs": [
    {
     "name": "stdout",
     "output_type": "stream",
     "text": [
      "num : 20\n"
     ]
    }
   ],
   "source": [
    "num = 10\n",
    "num += 10\n",
    "print(\"num :\", num)"
   ]
  },
  {
   "cell_type": "code",
   "execution_count": 24,
   "id": "b5c941d6-89b4-4370-badf-38bff11d8820",
   "metadata": {},
   "outputs": [
    {
     "name": "stdout",
     "output_type": "stream",
     "text": [
      "num : 0\n"
     ]
    }
   ],
   "source": [
    "num = 10\n",
    "num %= 2\n",
    "print(\"num :\", num)"
   ]
  },
  {
   "cell_type": "code",
   "execution_count": 28,
   "id": "e8522329-7b11-4b6c-9747-76745fa44905",
   "metadata": {},
   "outputs": [
    {
     "name": "stdout",
     "output_type": "stream",
     "text": [
      "num : 100\n"
     ]
    }
   ],
   "source": [
    "num = 10\n",
    "num **= 2\n",
    "print(\"num :\", num)"
   ]
  },
  {
   "cell_type": "code",
   "execution_count": 38,
   "id": "174fcad6-5373-4522-9083-17eeb2adc14b",
   "metadata": {},
   "outputs": [
    {
     "name": "stdout",
     "output_type": "stream",
     "text": [
      "False\n",
      "True\n"
     ]
    }
   ],
   "source": [
    "print(not True)\n",
    "print(not False)"
   ]
  },
  {
   "cell_type": "code",
   "execution_count": 40,
   "id": "52ae4f7c-0b65-45fd-8452-42bd8847d304",
   "metadata": {},
   "outputs": [
    {
     "name": "stdout",
     "output_type": "stream",
     "text": [
      "False\n"
     ]
    }
   ],
   "source": [
    "a=10\n",
    "b=40\n",
    "print(not a<b)"
   ]
  },
  {
   "cell_type": "code",
   "execution_count": 50,
   "id": "63b2b1ea-076e-4dff-9a85-c59d17e20341",
   "metadata": {},
   "outputs": [
    {
     "name": "stdout",
     "output_type": "stream",
     "text": [
      "and operator: True\n"
     ]
    }
   ],
   "source": [
    "val1=True\n",
    "val2=True\n",
    "print(\"and operator:\", val1 and val2)"
   ]
  },
  {
   "cell_type": "code",
   "execution_count": 54,
   "id": "11dfa8fa-50d9-4203-9830-37bb0d12819f",
   "metadata": {},
   "outputs": [
    {
     "name": "stdout",
     "output_type": "stream",
     "text": [
      "or operator: False\n",
      "and operator: False\n"
     ]
    }
   ],
   "source": [
    "val1=False\n",
    "val2=False\n",
    "print(\"or operator:\", val1 or val2)\n",
    "print(\"and operator:\", val1 and val2)"
   ]
  },
  {
   "cell_type": "code",
   "execution_count": 58,
   "id": "baa9df25-9a44-41aa-ad3d-c104beb0ef1d",
   "metadata": {},
   "outputs": [
    {
     "name": "stdout",
     "output_type": "stream",
     "text": [
      "or operator: True\n"
     ]
    }
   ],
   "source": [
    "a=50\n",
    "b=30\n",
    "print(\"or operator:\",(a==b) or (a>b))"
   ]
  },
  {
   "cell_type": "code",
   "execution_count": 60,
   "id": "06458989-1748-4344-8348-e4529a77ae21",
   "metadata": {},
   "outputs": [
    {
     "name": "stdout",
     "output_type": "stream",
     "text": [
      "<class 'float'>\n",
      "24.33\n"
     ]
    }
   ],
   "source": [
    "a=2\n",
    "b=float(22.33)\n",
    "print(type(b))\n",
    "print(a+b)"
   ]
  },
  {
   "cell_type": "code",
   "execution_count": 62,
   "id": "45eddd3e-38f6-4690-b5e1-b57adfcb2392",
   "metadata": {},
   "outputs": [
    {
     "name": "stdout",
     "output_type": "stream",
     "text": [
      "<class 'int'>\n",
      "24\n"
     ]
    }
   ],
   "source": [
    "a=2\n",
    "b=int(22.33)\n",
    "print(type(b))\n",
    "print(a+b)"
   ]
  },
  {
   "cell_type": "code",
   "execution_count": 64,
   "id": "c897bf1f-bfc4-41c6-b658-85700ed60d4e",
   "metadata": {},
   "outputs": [
    {
     "name": "stdout",
     "output_type": "stream",
     "text": [
      "<class 'str'>\n"
     ]
    }
   ],
   "source": [
    "a=20\n",
    "a=str(a)\n",
    "print(type(a))"
   ]
  },
  {
   "cell_type": "code",
   "execution_count": 70,
   "id": "92ff80ee-45cd-4df6-849f-2ef5df349eba",
   "metadata": {},
   "outputs": [
    {
     "name": "stdin",
     "output_type": "stream",
     "text": [
      "enter your name:  adi\n"
     ]
    },
    {
     "data": {
      "text/plain": [
       "'adi'"
      ]
     },
     "execution_count": 70,
     "metadata": {},
     "output_type": "execute_result"
    }
   ],
   "source": [
    "input(\"enter your name: \")"
   ]
  },
  {
   "cell_type": "code",
   "execution_count": 74,
   "id": "96a326e3-f843-423d-b849-698085affc99",
   "metadata": {},
   "outputs": [
    {
     "name": "stdin",
     "output_type": "stream",
     "text": [
      "enter your name   adi\n"
     ]
    },
    {
     "data": {
      "text/plain": [
       "'adi'"
      ]
     },
     "execution_count": 74,
     "metadata": {},
     "output_type": "execute_result"
    }
   ],
   "source": [
    "input(\"enter your name\")"
   ]
  },
  {
   "cell_type": "code",
   "execution_count": 78,
   "id": "e94bf759-e6b6-4b22-9a88-6c57a7d415ab",
   "metadata": {},
   "outputs": [
    {
     "name": "stdin",
     "output_type": "stream",
     "text": [
      "enter your name:  ADITYA SHARMA\n"
     ]
    },
    {
     "name": "stdout",
     "output_type": "stream",
     "text": [
      "welcome ADITYA SHARMA\n"
     ]
    }
   ],
   "source": [
    "name = input(\"enter your name: \")\n",
    "print(\"welcome\",name)"
   ]
  },
  {
   "cell_type": "code",
   "execution_count": 88,
   "id": "839a8259-e781-4307-a2b6-3630dd167ce9",
   "metadata": {},
   "outputs": [
    {
     "name": "stdin",
     "output_type": "stream",
     "text": [
      "Enter your age:  55\n"
     ]
    },
    {
     "name": "stdout",
     "output_type": "stream",
     "text": [
      "you entered 55\n"
     ]
    }
   ],
   "source": [
    "age=input(\"Enter your age: \")\n",
    "print(\"you entered\", age)"
   ]
  },
  {
   "cell_type": "code",
   "execution_count": 100,
   "id": "69e222e3-0048-456a-ac44-7382667c508a",
   "metadata": {},
   "outputs": [
    {
     "name": "stdin",
     "output_type": "stream",
     "text": [
      "enter some value:  55\n"
     ]
    },
    {
     "name": "stdout",
     "output_type": "stream",
     "text": [
      "<class 'int'> 55\n"
     ]
    }
   ],
   "source": [
    "val=int(input(\"enter some value: \"))\n",
    "print(type(val),val)"
   ]
  },
  {
   "cell_type": "code",
   "execution_count": 104,
   "id": "153b2fac-7d31-46cb-97bb-44df070bce91",
   "metadata": {},
   "outputs": [
    {
     "name": "stdin",
     "output_type": "stream",
     "text": [
      "enter some value:  33.3\n"
     ]
    },
    {
     "name": "stdout",
     "output_type": "stream",
     "text": [
      "<class 'float'> 33.3\n"
     ]
    }
   ],
   "source": [
    "val=float(input(\"enter some value: \"))\n",
    "print(type(val),val)"
   ]
  },
  {
   "cell_type": "code",
   "execution_count": 110,
   "id": "9209deb5-17fa-4855-8205-c5d1c97b8ff9",
   "metadata": {},
   "outputs": [
    {
     "name": "stdin",
     "output_type": "stream",
     "text": [
      "Type something 55\n"
     ]
    },
    {
     "name": "stdout",
     "output_type": "stream",
     "text": [
      "<class 'str'> 55\n"
     ]
    }
   ],
   "source": [
    "val=str(input(\"Type something: \"))\n",
    "print(type(val),val)"
   ]
  },
  {
   "cell_type": "code",
   "execution_count": 136,
   "id": "de390f12-279b-4552-a0f1-33ad9ddc7b01",
   "metadata": {},
   "outputs": [
    {
     "name": "stdin",
     "output_type": "stream",
     "text": [
      "ENTER YOUR NAME:  adi\n",
      "enter your age:  21\n",
      "enter your marks:  399\n"
     ]
    },
    {
     "name": "stdout",
     "output_type": "stream",
     "text": [
      "welcome adi\n",
      "age = 21\n",
      "marks = 399\n"
     ]
    }
   ],
   "source": [
    "name = input(\"ENTER YOUR NAME: \")\n",
    "age = input(\"enter your age: \")\n",
    "marks = input(\"enter your marks: \")\n",
    "\n",
    "print(\"welcome\",name)\n",
    "print(\"age =\", age)\n",
    "print(\"marks =\", marks)"
   ]
  },
  {
   "cell_type": "code",
   "execution_count": 138,
   "id": "05f8ccb9-b069-44e5-a607-8cbef660310a",
   "metadata": {},
   "outputs": [
    {
     "name": "stdin",
     "output_type": "stream",
     "text": [
      "ENTER YOUR NAME:  adi\n",
      "enter your age:  21\n",
      "enter your marks:  399\n"
     ]
    },
    {
     "name": "stdout",
     "output_type": "stream",
     "text": [
      "welcome adi\n",
      "age = 21\n",
      "marks = 399.0\n"
     ]
    }
   ],
   "source": [
    "name = input(\"ENTER YOUR NAME: \")\n",
    "age = int(input(\"enter your age: \"))\n",
    "marks = float(input(\"enter your marks: \"))\n",
    "\n",
    "print(\"welcome\",name)\n",
    "print(\"age =\", age)\n",
    "print(\"marks =\", marks)"
   ]
  },
  {
   "cell_type": "code",
   "execution_count": 150,
   "id": "1b7442f1-8fdf-49ec-b3f6-944469875e73",
   "metadata": {},
   "outputs": [
    {
     "name": "stdin",
     "output_type": "stream",
     "text": [
      "Enter first number:  50\n",
      "enter second number:  50\n"
     ]
    },
    {
     "name": "stdout",
     "output_type": "stream",
     "text": [
      "sum= 100\n"
     ]
    }
   ],
   "source": [
    "first=int(input(\"Enter first number: \"))\n",
    "second=int(input(\"enter second number: \"))\n",
    "print(\"sum=\", first+second)"
   ]
  },
  {
   "cell_type": "code",
   "execution_count": 158,
   "id": "36ac1f71-b574-4df3-86e5-a8ddcba21864",
   "metadata": {},
   "outputs": [
    {
     "name": "stdin",
     "output_type": "stream",
     "text": [
      "enter square side:  4\n"
     ]
    },
    {
     "name": "stdout",
     "output_type": "stream",
     "text": [
      "area= 16.0\n"
     ]
    }
   ],
   "source": [
    "side=float(input(\"enter square side: \"))\n",
    "print(\"area=\", side*side)#or side**2"
   ]
  },
  {
   "cell_type": "code",
   "execution_count": 166,
   "id": "70a59d2b-bf03-4ff1-a2ef-fbfa3aeedf2b",
   "metadata": {},
   "outputs": [
    {
     "name": "stdin",
     "output_type": "stream",
     "text": [
      "enter first:  16.5\n",
      "enter second:  3.5\n"
     ]
    },
    {
     "name": "stdout",
     "output_type": "stream",
     "text": [
      "avg= 10.0\n"
     ]
    }
   ],
   "source": [
    "a=float(input(\"enter first: \"))\n",
    "b=float(input(\"enter second: \"))\n",
    "print(\"avg=\", (a+b)/2)\n"
   ]
  },
  {
   "cell_type": "code",
   "execution_count": 172,
   "id": "8f996346-61d4-4aa9-a905-d2f4d52f0a74",
   "metadata": {},
   "outputs": [
    {
     "name": "stdin",
     "output_type": "stream",
     "text": [
      "enter first:  50\n",
      "enter second:  20\n"
     ]
    },
    {
     "name": "stdout",
     "output_type": "stream",
     "text": [
      "True\n"
     ]
    }
   ],
   "source": [
    "a=int(input(\"enter first: \"))\n",
    "b=int(input(\"enter second: \"))\n",
    "print(a>=b)"
   ]
  },
  {
   "cell_type": "code",
   "execution_count": null,
   "id": "3dcfc0bf-cbbe-4235-80d9-8370313ad3c3",
   "metadata": {},
   "outputs": [],
   "source": [
    "# What is the difference between append() and extend()?\n",
    "\n",
    "# append(x): Adds x as a single element.\n",
    "# extend(iterable): Adds elements of iterable individually.\n",
    "lst = [1, 2, 3]\n",
    "lst.append([4, 5])  # [1, 2, 3, [4, 5]]\n",
    "lst.extend([4, 5])  # [1, 2, 3, 4, 5]\n"
   ]
  },
  {
   "cell_type": "code",
   "execution_count": null,
   "id": "7a074f71-bded-42bc-ba1b-f76d315668d1",
   "metadata": {},
   "outputs": [],
   "source": [
    "# What is the difference between deep copy and shallow copy?\n",
    "\n",
    "# Shallow Copy: Creates a new object, but references inner objects.\n",
    "# Deep Copy: Creates a completely independent copy.\n",
    "\n",
    "import copy\n",
    "a = [[1, 2], [3, 4]]\n",
    "shallow = copy.copy(a)\n",
    "deep = copy.deepcopy(a)"
   ]
  },
  {
   "cell_type": "code",
   "execution_count": 5,
   "id": "38025f94-9df7-49bd-b83b-6712f596046b",
   "metadata": {},
   "outputs": [
    {
     "name": "stdout",
     "output_type": "stream",
     "text": [
      "Hello, Aditya!\n"
     ]
    }
   ],
   "source": [
    "def greet(name=\"Aditya\"):  \n",
    "    print(f\"Hello, {name}!\")\n",
    "greet()  # Uses default value \"Aditya\"\n"
   ]
  },
  {
   "cell_type": "code",
   "execution_count": 7,
   "id": "be27f1d0-0fc1-43a0-abbe-8d9151c7a0fe",
   "metadata": {},
   "outputs": [
    {
     "name": "stdout",
     "output_type": "stream",
     "text": [
      "True\n",
      "True\n"
     ]
    }
   ],
   "source": [
    "a = [1, 2, 3]\n",
    "b = a  \n",
    "print(a is b)  # True (same memory)\n",
    "print(a == b)  # True (same value)\n"
   ]
  },
  {
   "cell_type": "code",
   "execution_count": null,
   "id": "e65f43be-f5db-4680-8612-6ce27da151d0",
   "metadata": {},
   "outputs": [],
   "source": [
    "x = 10       # x is an integer\n",
    "x = \"Hello\"  # Now x is a string\n"
   ]
  },
  {
   "cell_type": "code",
   "execution_count": null,
   "id": "99ebce9f-da58-45ad-883d-cf06d814b6e1",
   "metadata": {},
   "outputs": [],
   "source": [
    "### **Data Types in Python & Their Differences**  \n",
    "\n",
    "Python provides various built-in **data types** to store different kinds of values. Here's a **detailed comparison** of each:\n",
    "\n",
    "---\n",
    "\n",
    "## **1. Numeric Types**\n",
    "| Data Type | Description | Example | Mutable? |\n",
    "|-----------|------------|---------|----------|\n",
    "| **int** | Whole numbers (positive, negative, zero) | `x = 10` | ❌ No |\n",
    "| **float** | Decimal/real numbers | `y = 10.5` | ❌ No |\n",
    "| **complex** | Numbers with real & imaginary parts | `z = 2 + 3j` | ❌ No |\n",
    "\n",
    "🔹 **Difference**:  \n",
    "- **`int`** holds whole numbers, **`float`** stores decimal numbers, and **`complex`** numbers include an imaginary part (`j` in Python).\n",
    "\n",
    "---\n",
    "\n",
    "## **2. Boolean Type**\n",
    "| Data Type | Description | Example | Mutable? |\n",
    "|-----------|------------|---------|----------|\n",
    "| **bool** | Represents `True` or `False` | `is_active = True` | ❌ No |\n",
    "\n",
    "🔹 **Difference**:  \n",
    "- `bool` is a subclass of `int` (`True` = `1`, `False` = `0`). Example:\n",
    "  ```python\n",
    "  print(True + 1)  # Output: 2\n",
    "  print(False + 5) # Output: 5\n",
    "  ```\n",
    "\n",
    "---\n",
    "\n",
    "## **3. Sequence Types**\n",
    "| Data Type | Description | Example | Mutable? |\n",
    "|-----------|------------|---------|----------|\n",
    "| **str** | Text data (characters) | `\"Hello\"` | ❌ No |\n",
    "| **list** | Ordered, changeable collection | `[1, 2, 3]` | ✅ Yes |\n",
    "| **tuple** | Ordered, immutable collection | `(1, 2, 3)` | ❌ No |\n",
    "\n",
    "🔹 **Differences**:\n",
    "- **`str`** is immutable, meaning you **cannot** change its characters.\n",
    "- **`list`** is mutable, meaning you **can** modify elements (`append`, `remove`, etc.).\n",
    "- **`tuple`** is immutable, meaning **no changes** after creation.\n",
    "\n",
    "Example:\n",
    "```python\n",
    "s = \"Hello\"\n",
    "# s[0] = 'Y'  ❌ This will give an error (strings are immutable)\n",
    "\n",
    "lst = [1, 2, 3]\n",
    "lst[0] = 100  # ✅ Lists can be changed\n",
    "\n",
    "tup = (1, 2, 3)\n",
    "# tup[0] = 100  ❌ This will give an error (tuples are immutable)\n",
    "```\n",
    "\n",
    "---\n",
    "\n",
    "## **4. Set Types**\n",
    "| Data Type | Description | Example | Mutable? |\n",
    "|-----------|------------|---------|----------|\n",
    "| **set** | Unordered, unique elements | `{1, 2, 3}` | ✅ Yes |\n",
    "| **frozenset** | Immutable set | `frozenset({1, 2, 3})` | ❌ No |\n",
    "\n",
    "🔹 **Differences**:\n",
    "- **`set`** allows adding/removing elements.\n",
    "- **`frozenset`** is immutable (cannot be changed after creation).\n",
    "\n",
    "Example:\n",
    "```python\n",
    "s = {1, 2, 3}\n",
    "s.add(4)  # ✅ Allowed\n",
    "\n",
    "fs = frozenset({1, 2, 3})\n",
    "# fs.add(4)  ❌ Error! Cannot modify frozenset\n",
    "```\n",
    "\n",
    "---\n",
    "\n",
    "## **5. Mapping Type**\n",
    "| Data Type | Description | Example | Mutable? |\n",
    "|-----------|------------|---------|----------|\n",
    "| **dict** | Key-value pairs | `{\"name\": \"John\", \"age\": 25}` | ✅ Yes |\n",
    "\n",
    "🔹 **Difference**:\n",
    "- `dict` keys must be **unique and immutable** (e.g., strings, numbers, tuples).\n",
    "- Values can be **any data type**.\n",
    "\n",
    "Example:\n",
    "```python\n",
    "person = {\"name\": \"Alice\", \"age\": 30}\n",
    "person[\"age\"] = 35  # ✅ Allowed (dict is mutable)\n",
    "```\n",
    "\n",
    "---\n",
    "\n",
    "## **6. Binary Types**\n",
    "| Data Type | Description | Example |\n",
    "|-----------|------------|---------|\n",
    "| **bytes** | Immutable sequence of bytes | `b\"Hello\"` |\n",
    "| **bytearray** | Mutable sequence of bytes | `bytearray(b\"Hello\")` |\n",
    "| **memoryview** | View of memory (for performance) | `memoryview(b\"Hello\")` |\n",
    "\n",
    "🔹 **Difference**:\n",
    "- **`bytes`** is immutable.\n",
    "- **`bytearray`** is mutable.\n",
    "- **`memoryview`** provides direct memory access without copying.\n",
    "\n",
    "Example:\n",
    "```python\n",
    "b = b\"Hello\"\n",
    "# b[0] = 72  ❌ Error! bytes are immutable\n",
    "\n",
    "ba = bytearray(b\"Hello\")\n",
    "ba[0] = 72  # ✅ Allowed (mutable)\n",
    "```\n",
    "\n",
    "---\n",
    "\n",
    "## **7. None Type**\n",
    "| Data Type | Description | Example |\n",
    "|-----------|------------|---------|\n",
    "| **NoneType** | Represents \"no value\" | `x = None` |\n",
    "\n",
    "🔹 **Difference**:\n",
    "- `None` is used to indicate **absence of a value** (e.g., a function that returns nothing).\n",
    "\n",
    "Example:\n",
    "```python\n",
    "def my_func():\n",
    "    return None\n",
    "\n",
    "result = my_func()\n",
    "print(result)  # Output: None\n",
    "```\n",
    "\n",
    "---\n",
    "\n",
    "## **Summary of Differences**\n",
    "| Category | Data Type | Mutable? | Ordered? | Allows Duplicates? |\n",
    "|----------|----------|---------|---------|----------------|\n",
    "| **Numeric** | `int`, `float`, `complex` | ❌ No | — | — |\n",
    "| **Boolean** | `bool` | ❌ No | — | — |\n",
    "| **Sequence** | `str` | ❌ No | ✅ Yes | ✅ Yes |\n",
    "|  | `list` | ✅ Yes | ✅ Yes | ✅ Yes |\n",
    "|  | `tuple` | ❌ No | ✅ Yes | ✅ Yes |\n",
    "| **Set** | `set` | ✅ Yes | ❌ No | ❌ No |\n",
    "|  | `frozenset` | ❌ No | ❌ No | ❌ No |\n",
    "| **Mapping** | `dict` | ✅ Yes | ✅ Yes (Python 3.7+) | Keys: ❌ No, Values: ✅ Yes |\n",
    "| **Binary** | `bytes` | ❌ No | ✅ Yes | ✅ Yes |\n",
    "|  | `bytearray` | ✅ Yes | ✅ Yes | ✅ Yes |\n",
    "|  | `memoryview` | ✅ Yes | ✅ Yes | ✅ Yes |\n",
    "| **None** | `NoneType` | ❌ No | — | — |\n",
    "\n",
    "---\n",
    "\n",
    "### **Key Takeaways**\n",
    "1. **Mutable vs. Immutable**\n",
    "   - Mutable: `list`, `set`, `dict`, `bytearray`\n",
    "   - Immutable: `int`, `float`, `complex`, `str`, `tuple`, `frozenset`, `bytes`, `NoneType`\n",
    "  \n",
    "2. **Ordered vs. Unordered**\n",
    "   - Ordered: `str`, `list`, `tuple`, `dict` (since Python 3.7+)\n",
    "   - Unordered: `set`, `frozenset`\n",
    "  \n",
    "3. **Duplicate Values**\n",
    "   - Allowed: `list`, `tuple`, `str`\n",
    "   - Not Allowed: `set`, `frozenset`, `dict` keys\n",
    "\n",
    "This breakdown covers all the **Python data types** and their differences in a structured way! 🚀"
   ]
  }
 ],
 "metadata": {
  "kernelspec": {
   "display_name": "Python 3 (ipykernel)",
   "language": "python",
   "name": "python3"
  },
  "language_info": {
   "codemirror_mode": {
    "name": "ipython",
    "version": 3
   },
   "file_extension": ".py",
   "mimetype": "text/x-python",
   "name": "python",
   "nbconvert_exporter": "python",
   "pygments_lexer": "ipython3",
   "version": "3.11.7"
  }
 },
 "nbformat": 4,
 "nbformat_minor": 5
}
