{
 "cells": [
  {
   "cell_type": "code",
   "execution_count": null,
   "id": "aab4a91d-c3fc-4a76-b2b5-be6af7ab5f51",
   "metadata": {},
   "outputs": [],
   "source": [
    "#Loops in python\n",
    "#1st for loop\n",
    "#while loop\n",
    "#nested loop"
   ]
  },
  {
   "cell_type": "code",
   "execution_count": null,
   "id": "e9c0272f-2d42-46b0-970b-e516abefa69e",
   "metadata": {},
   "outputs": [],
   "source": [
    "# while:\n",
    "while True\n",
    "    print(\"Hello world\") # infinite loop print hello world Don't run"
   ]
  },
  {
   "cell_type": "code",
   "execution_count": 3,
   "id": "f09b0df3-1444-4c70-a93f-0eb7a99be8ee",
   "metadata": {},
   "outputs": [
    {
     "name": "stdout",
     "output_type": "stream",
     "text": [
      "hello\n",
      "hello\n",
      "hello\n",
      "hello\n",
      "hello\n"
     ]
    }
   ],
   "source": [
    "count= 1  #count is iterators  and iteration is no of time and loop run \n",
    "while count<=5:\n",
    "    print(\"hello\")\n",
    "    count += 1"
   ]
  },
  {
   "cell_type": "code",
   "execution_count": 9,
   "id": "18ac639e-97f6-4d91-bd36-6c971d847be5",
   "metadata": {},
   "outputs": [
    {
     "name": "stdout",
     "output_type": "stream",
     "text": [
      "Appna college 1\n",
      "Appna college 2\n",
      "Appna college 3\n",
      "Appna college 4\n",
      "Appna college 5\n"
     ]
    }
   ],
   "source": [
    "i = 1\n",
    "while i<=5:\n",
    "    print(\"Appna college\", i)\n",
    "    i+=1"
   ]
  },
  {
   "cell_type": "code",
   "execution_count": 4,
   "id": "6b6b17ad-6d64-4ef0-888c-5b3d1d616e47",
   "metadata": {},
   "outputs": [
    {
     "name": "stdout",
     "output_type": "stream",
     "text": [
      "5\n",
      "4\n",
      "3\n",
      "2\n",
      "1\n",
      "Loop Ended\n"
     ]
    }
   ],
   "source": [
    "i=5\n",
    "while i>=1:\n",
    "    print(i)\n",
    "    i-=1\n",
    "\n",
    "print(\"Loop Ended\")"
   ]
  },
  {
   "cell_type": "code",
   "execution_count": 40,
   "id": "53bf9260-8ebe-4470-b56e-c879dd2734e2",
   "metadata": {},
   "outputs": [
    {
     "name": "stdout",
     "output_type": "stream",
     "text": [
      "100\n",
      "99\n",
      "98\n",
      "97\n",
      "96\n",
      "95\n",
      "94\n",
      "93\n",
      "92\n",
      "91\n",
      "90\n",
      "89\n",
      "88\n",
      "87\n",
      "86\n",
      "85\n",
      "84\n",
      "83\n",
      "82\n",
      "81\n",
      "80\n",
      "79\n",
      "78\n",
      "77\n",
      "76\n",
      "75\n",
      "74\n",
      "73\n",
      "72\n",
      "71\n",
      "70\n",
      "69\n",
      "68\n",
      "67\n",
      "66\n",
      "65\n",
      "64\n",
      "63\n",
      "62\n",
      "61\n",
      "60\n",
      "59\n",
      "58\n",
      "57\n",
      "56\n",
      "55\n",
      "54\n",
      "53\n",
      "52\n",
      "51\n",
      "50\n",
      "49\n",
      "48\n",
      "47\n",
      "46\n",
      "45\n",
      "44\n",
      "43\n",
      "42\n",
      "41\n",
      "40\n",
      "39\n",
      "38\n",
      "37\n",
      "36\n",
      "35\n",
      "34\n",
      "33\n",
      "32\n",
      "31\n",
      "30\n",
      "29\n",
      "28\n",
      "27\n",
      "26\n",
      "25\n",
      "24\n",
      "23\n",
      "22\n",
      "21\n",
      "20\n",
      "19\n",
      "18\n",
      "17\n",
      "16\n",
      "15\n",
      "14\n",
      "13\n",
      "12\n",
      "11\n",
      "10\n",
      "9\n",
      "8\n",
      "7\n",
      "6\n",
      "5\n",
      "4\n",
      "3\n",
      "2\n",
      "1\n"
     ]
    }
   ],
   "source": [
    "#print number 100 to 1\n",
    "i=100\n",
    "while i>=1:\n",
    "    print(i)\n",
    "    i-=1"
   ]
  },
  {
   "cell_type": "code",
   "execution_count": 61,
   "id": "91a9642c-e849-40d2-abea-f76a86ed487c",
   "metadata": {},
   "outputs": [
    {
     "name": "stdout",
     "output_type": "stream",
     "text": [
      "4\n",
      "8\n",
      "12\n",
      "16\n",
      "20\n",
      "24\n",
      "28\n",
      "32\n",
      "36\n",
      "40\n"
     ]
    }
   ],
   "source": [
    "#to print Table\n",
    "i=1\n",
    "while i<=10:\n",
    "    print(4*i)\n",
    "    i+=1\n",
    "i=1\n",
    "while i<=10:\n",
    "    print(4*i)\n",
    "    i+"
   ]
  },
  {
   "cell_type": "code",
   "execution_count": 67,
   "id": "ccaa46b7-8db7-4628-b03b-af0c375c0285",
   "metadata": {},
   "outputs": [
    {
     "name": "stdin",
     "output_type": "stream",
     "text": [
      "enter a no.:  50\n"
     ]
    },
    {
     "name": "stdout",
     "output_type": "stream",
     "text": [
      "50\n",
      "100\n",
      "150\n",
      "200\n",
      "250\n",
      "300\n",
      "350\n",
      "400\n",
      "450\n",
      "500\n"
     ]
    }
   ],
   "source": [
    "#or\n",
    "num=int(input(\"enter a no.: \"))\n",
    "i=1\n",
    "while i<=10:\n",
    "    print(num*i)\n",
    "    i+=1"
   ]
  },
  {
   "cell_type": "code",
   "execution_count": 79,
   "id": "e43c57b8-343a-4d2f-9f95-af2464e727c7",
   "metadata": {},
   "outputs": [
    {
     "name": "stdout",
     "output_type": "stream",
     "text": [
      "1\n",
      "4\n",
      "9\n",
      "16\n",
      "25\n",
      "36\n",
      "49\n",
      "64\n",
      "81\n",
      "100\n"
     ]
    }
   ],
   "source": [
    "#print the elements of the  following list using a loop:\n",
    "num=[1,4,9,16,25,36,49,64,81,100]\n",
    "idx=0\n",
    "while idx<len(num):\n",
    "    print(num[idx])  #num[1],num[2],num[3]...\n",
    "    idx+=1\n",
    "\n",
    "\n",
    "\n",
    "# print(num[0])\n",
    "# print(num[1])\n",
    "# print(num[2])#...print(num[len(num)-1]) or list-1\n",
    "\n",
    "\n"
   ]
  },
  {
   "cell_type": "code",
   "execution_count": null,
   "id": "0085691a-017f-4a77-a0b0-bac7e5a4dbd0",
   "metadata": {},
   "outputs": [],
   "source": [
    "#Traverse = if we move or travel to every elements one by one of list ,tuple or dictionary..\n",
    "heroes=[\"iron man\",\"thor\",\"batman\",\"spiderman\"]\n",
    "i=0 #u can use idx or anyting insted of i here\n",
    "while i<len(heroes):\n",
    "    print(heroes[i])\n",
    "    i+=1\n",
    "    "
   ]
  },
  {
   "cell_type": "code",
   "execution_count": 10,
   "id": "0ceff304-7c8a-4152-86e1-25b470b97573",
   "metadata": {},
   "outputs": [
    {
     "name": "stdout",
     "output_type": "stream",
     "text": [
      "finding...\n",
      "finding...\n",
      "Found at idx:  2\n",
      "finding...\n",
      "finding...\n",
      "finding...\n",
      "finding...\n",
      "finding...\n",
      "finding...\n",
      "finding...\n"
     ]
    }
   ],
   "source": [
    "#search for a number x in this tuple using loop:\n",
    "num=(1,4,9,16,25,36,49,64,81,100)\n",
    "x = 9\n",
    "i = 0\n",
    "while i < len(num):\n",
    "    if(num[i] == x):\n",
    "        print(\"Found at idx: \", i)\n",
    "    else:\n",
    "        print(\"finding...\")\n",
    "    i += 1"
   ]
  },
  {
   "cell_type": "code",
   "execution_count": 2,
   "id": "c0dd2286-fe48-4974-ace4-fe1852838b96",
   "metadata": {},
   "outputs": [
    {
     "name": "stdout",
     "output_type": "stream",
     "text": [
      "1\n",
      "2\n",
      "end of the loop\n"
     ]
    }
   ],
   "source": [
    "i=1\n",
    "while i<=5:\n",
    "    print(i)\n",
    "    if (i==2):\n",
    "        break\n",
    "    i+=1\n",
    "\n",
    "print(\"end of the loop\")\n",
    "    \n",
    "    "
   ]
  },
  {
   "cell_type": "code",
   "execution_count": 8,
   "id": "5f58359c-f7b5-40f9-a655-7a5eaf9a4eea",
   "metadata": {
    "scrolled": true
   },
   "outputs": [
    {
     "name": "stdout",
     "output_type": "stream",
     "text": [
      "finding...\n",
      "finding...\n",
      "Found at idx:  2\n",
      "end of loop\n"
     ]
    }
   ],
   "source": [
    "#if you want to end the loop after fnding\n",
    "num=(1,4,9,16,25,36,49,64,81,100)\n",
    "x = 9\n",
    "i = 0\n",
    "while i < len(num):\n",
    "    if(num[i] == x):\n",
    "        print(\"Found at idx: \", i)\n",
    "        break\n",
    "    else:\n",
    "        print(\"finding...\")\n",
    "    i += 1\n",
    "print(\"end of loop\")"
   ]
  },
  {
   "cell_type": "code",
   "execution_count": 22,
   "id": "7e9d48cc-5a07-4bc2-a327-49141b184e48",
   "metadata": {},
   "outputs": [
    {
     "name": "stdout",
     "output_type": "stream",
     "text": [
      "0\n",
      "1\n",
      "2\n",
      "4\n",
      "5\n"
     ]
    }
   ],
   "source": [
    "i=0\n",
    "while i<=5:\n",
    "    if (i==3):\n",
    "        i+=1\n",
    "        continue #skip\n",
    "    print(i)\n",
    "    i+=1"
   ]
  },
  {
   "cell_type": "code",
   "execution_count": 26,
   "id": "6adcac4a-731e-4146-b234-9826d1ecc8b7",
   "metadata": {},
   "outputs": [
    {
     "name": "stdout",
     "output_type": "stream",
     "text": [
      "1\n",
      "3\n",
      "5\n"
     ]
    }
   ],
   "source": [
    "#for odd \n",
    "i=0\n",
    "while i<=5:\n",
    "    if (i%2==0):\n",
    "        i+=1\n",
    "        continue #skip\n",
    "    print(i)\n",
    "    i+=1"
   ]
  },
  {
   "cell_type": "code",
   "execution_count": 28,
   "id": "28a7d0e8-a760-4b88-b85f-eb6361221ce4",
   "metadata": {},
   "outputs": [
    {
     "name": "stdout",
     "output_type": "stream",
     "text": [
      "0\n",
      "2\n",
      "4\n"
     ]
    }
   ],
   "source": [
    "#for even\n",
    "i=0\n",
    "while i<=5:\n",
    "    if (i%2!=0):\n",
    "        i+=1\n",
    "        continue #skip\n",
    "    print(i)\n",
    "    i+=1"
   ]
  },
  {
   "cell_type": "code",
   "execution_count": 32,
   "id": "90781643-04c3-4562-8a08-f0c1575a1d71",
   "metadata": {},
   "outputs": [
    {
     "name": "stdout",
     "output_type": "stream",
     "text": [
      "1\n",
      "2\n",
      "3\n",
      "4\n",
      "5\n",
      "6\n"
     ]
    }
   ],
   "source": [
    "#for loop\n",
    "#Loops are used for siquential triversal,for traversing list ,string,tuple etc.\n",
    "value=[1,2,3,4,5,6]\n",
    "for num in value:\n",
    "    print(num)"
   ]
  },
  {
   "cell_type": "code",
   "execution_count": 36,
   "id": "d964db76-682f-457a-854d-8879f479fbd8",
   "metadata": {},
   "outputs": [
    {
     "name": "stdout",
     "output_type": "stream",
     "text": [
      "patato\n",
      "brinjal\n",
      "cabage\n",
      "tomato\n",
      "ladyfinger\n",
      "cucumber\n"
     ]
    }
   ],
   "source": [
    "veggies=[\"patato\",\"brinjal\",\"cabage\",\"tomato\",\"ladyfinger\",\"cucumber\"]\n",
    "for val in veggies:\n",
    "    print(val)"
   ]
  },
  {
   "cell_type": "code",
   "execution_count": 48,
   "id": "ed90be42-8be7-4d78-a260-5f97f7ef9853",
   "metadata": {},
   "outputs": [
    {
     "name": "stdout",
     "output_type": "stream",
     "text": [
      "1\n",
      "2\n",
      "3\n",
      "4\n",
      "56\n",
      "6\n",
      "a\n",
      "p\n",
      "p\n",
      "n\n",
      "a\n",
      "c\n",
      "o\n",
      "l\n",
      "l\n",
      "e\n",
      "g\n",
      "e\n",
      "End\n"
     ]
    }
   ],
   "source": [
    "tup=(1,2,3,4,56,6,)\n",
    "for num in tup:\n",
    "    print(num)\n",
    "\n",
    "str =\"appnacollege\"\n",
    "for char in str:\n",
    "    print(char)\n",
    "else:\n",
    "    print(\"End\")\n"
   ]
  },
  {
   "cell_type": "code",
   "execution_count": 62,
   "id": "5fe74159-e516-4c29-92c4-ccdfda3123a5",
   "metadata": {},
   "outputs": [
    {
     "name": "stdout",
     "output_type": "stream",
     "text": [
      "o found\n"
     ]
    }
   ],
   "source": [
    "#vvi why else is used if not found o in that case it is used\n",
    "str=\"apnacollege\"\n",
    "for char in str:\n",
    "    if(char=='o'):\n",
    "        print(\"o found\")\n",
    "        break\n",
    "        print(char)\n",
    "else:\n",
    "    print(\"End\")"
   ]
  },
  {
   "cell_type": "code",
   "execution_count": 64,
   "id": "0c6cd736-469f-4647-b9be-f86de12860ca",
   "metadata": {},
   "outputs": [
    {
     "name": "stdout",
     "output_type": "stream",
     "text": [
      "1\n",
      "4\n",
      "9\n",
      "16\n",
      "25\n",
      "36\n",
      "49\n",
      "64\n",
      "81\n",
      "100\n"
     ]
    }
   ],
   "source": [
    "#Print the elements of the following list using a loop:\n",
    "#[1, 4, 9, 16, 25, 36, 49, 64, 81,100]\n",
    "\n",
    "nums = [1, 4, 9, 16, 25, 36, 49, 64, 81, 100]\n",
    "for el in nums:\n",
    "    print(el)"
   ]
  },
  {
   "cell_type": "code",
   "execution_count": 68,
   "id": "2819d465-2412-4601-a484-d04a0f2e04dc",
   "metadata": {},
   "outputs": [
    {
     "name": "stdout",
     "output_type": "stream",
     "text": [
      "number found at idx 6\n",
      "number found at idx 10\n"
     ]
    }
   ],
   "source": [
    "#Search for a number x in this tuple using loop:\n",
    "#[1, 4, 9, 16, 25, 36, 49, 64, 81, 100]\n",
    "nums =(1, 4, 9, 16, 25, 36, 49, 64, 81, 100, 49)\n",
    "x = 49\n",
    "idx = 0\n",
    "for el in nums:\n",
    "    if(el == x) :\n",
    "        print (\"number found at idx\", idx)\n",
    "        #break\n",
    "    idx += 1"
   ]
  },
  {
   "cell_type": "code",
   "execution_count": 17,
   "id": "b7009817-6d8e-43e1-b5db-845c9af76e66",
   "metadata": {},
   "outputs": [
    {
     "name": "stdout",
     "output_type": "stream",
     "text": [
      "range(0, 5)\n",
      "0\n",
      "1\n",
      "2\n",
      "0\n",
      "1\n",
      "2\n",
      "3\n",
      "4\n",
      "5\n",
      "6\n",
      "7\n",
      "8\n",
      "9\n",
      "0\n",
      "1\n",
      "2\n",
      "3\n",
      "4\n",
      "5\n",
      "6\n",
      "7\n",
      "8\n",
      "9\n",
      "3\n",
      "4\n",
      "5\n",
      "6\n",
      "7\n",
      "8\n",
      "9\n",
      "3\n",
      "5\n",
      "7\n",
      "9\n"
     ]
    }
   ],
   "source": [
    "#range() function returns a sequesce of no. starting from zero by defalt and increse by 1 by defalt stops before any spicified no.\n",
    "print(range(5))\n",
    "\n",
    "seq= range(5)\n",
    "print(seq[0])\n",
    "print(seq[1])\n",
    "print(seq[2])\n",
    "\n",
    "seq= range(10)\n",
    "for i in seq:\n",
    "    print(i)\n",
    "\n",
    "for i in range(10): #range(stop)\n",
    "    print(i)\n",
    "\n",
    "for i in range(3,10): #range(start, stop)\n",
    "    print(i)\n",
    "\n",
    "for i in range(3,10,2): #range(start, stop,step or jump)\n",
    "    print(i)\n",
    "\n"
   ]
  },
  {
   "cell_type": "code",
   "execution_count": 45,
   "id": "53466fac-a5b1-4de3-a262-a403592ad31e",
   "metadata": {},
   "outputs": [
    {
     "name": "stdout",
     "output_type": "stream",
     "text": [
      "2\n",
      "4\n",
      "6\n",
      "8\n",
      "10\n",
      "12\n",
      "14\n",
      "16\n",
      "18\n",
      "20\n",
      "22\n",
      "24\n",
      "26\n",
      "28\n",
      "30\n",
      "32\n",
      "34\n",
      "36\n",
      "38\n",
      "40\n",
      "42\n",
      "44\n",
      "46\n",
      "48\n",
      "50\n",
      "52\n",
      "54\n",
      "56\n",
      "58\n",
      "60\n",
      "62\n",
      "64\n",
      "66\n",
      "68\n",
      "70\n",
      "72\n",
      "74\n",
      "76\n",
      "78\n",
      "80\n",
      "82\n",
      "84\n",
      "86\n",
      "88\n",
      "90\n",
      "92\n",
      "94\n",
      "96\n",
      "98\n",
      "100\n"
     ]
    }
   ],
   "source": [
    "# for even using range\n",
    "for i in range (2,101,2):\n",
    "    print(i)"
   ]
  },
  {
   "cell_type": "code",
   "execution_count": 47,
   "id": "60529ff3-3211-4845-b127-2c49e598eb59",
   "metadata": {},
   "outputs": [
    {
     "name": "stdout",
     "output_type": "stream",
     "text": [
      "1\n",
      "3\n",
      "5\n",
      "7\n",
      "9\n",
      "11\n",
      "13\n",
      "15\n",
      "17\n",
      "19\n",
      "21\n",
      "23\n",
      "25\n",
      "27\n",
      "29\n",
      "31\n",
      "33\n",
      "35\n",
      "37\n",
      "39\n",
      "41\n",
      "43\n",
      "45\n",
      "47\n",
      "49\n",
      "51\n",
      "53\n",
      "55\n",
      "57\n",
      "59\n",
      "61\n",
      "63\n",
      "65\n",
      "67\n",
      "69\n",
      "71\n",
      "73\n",
      "75\n",
      "77\n",
      "79\n",
      "81\n",
      "83\n",
      "85\n",
      "87\n",
      "89\n",
      "91\n",
      "93\n",
      "95\n",
      "97\n",
      "99\n"
     ]
    }
   ],
   "source": [
    "#for odd using range\n",
    "for i in range(1,101,2):\n",
    "    print(i)"
   ]
  },
  {
   "cell_type": "code",
   "execution_count": 53,
   "id": "cc80b748-6f4f-4292-a628-d22828e84c7b",
   "metadata": {},
   "outputs": [
    {
     "name": "stdout",
     "output_type": "stream",
     "text": [
      "0\n",
      "1\n",
      "2\n",
      "3\n",
      "4\n",
      "5\n",
      "6\n",
      "7\n",
      "8\n",
      "9\n",
      "10\n",
      "11\n",
      "12\n",
      "13\n",
      "14\n",
      "15\n",
      "16\n",
      "17\n",
      "18\n",
      "19\n",
      "20\n",
      "21\n",
      "22\n",
      "23\n",
      "24\n",
      "25\n",
      "26\n",
      "27\n",
      "28\n",
      "29\n",
      "30\n",
      "31\n",
      "32\n",
      "33\n",
      "34\n",
      "35\n",
      "36\n",
      "37\n",
      "38\n",
      "39\n",
      "40\n",
      "41\n",
      "42\n",
      "43\n",
      "44\n",
      "45\n",
      "46\n",
      "47\n",
      "48\n",
      "49\n",
      "50\n",
      "51\n",
      "52\n",
      "53\n",
      "54\n",
      "55\n",
      "56\n",
      "57\n",
      "58\n",
      "59\n",
      "60\n",
      "61\n",
      "62\n",
      "63\n",
      "64\n",
      "65\n",
      "66\n",
      "67\n",
      "68\n",
      "69\n",
      "70\n",
      "71\n",
      "72\n",
      "73\n",
      "74\n",
      "75\n",
      "76\n",
      "77\n",
      "78\n",
      "79\n",
      "80\n",
      "81\n",
      "82\n",
      "83\n",
      "84\n",
      "85\n",
      "86\n",
      "87\n",
      "88\n",
      "89\n",
      "90\n",
      "91\n",
      "92\n",
      "93\n",
      "94\n",
      "95\n",
      "96\n",
      "97\n",
      "98\n",
      "99\n",
      "100\n"
     ]
    }
   ],
   "source": [
    "#print no from 0 to 100\n",
    "for i in range(101):\n",
    "    print(i)"
   ]
  },
  {
   "cell_type": "code",
   "execution_count": 55,
   "id": "e9d16e22-dcbc-4e1a-a195-3b50ca2ed6f1",
   "metadata": {},
   "outputs": [
    {
     "name": "stdout",
     "output_type": "stream",
     "text": [
      "1\n",
      "2\n",
      "3\n",
      "4\n",
      "5\n",
      "6\n",
      "7\n",
      "8\n",
      "9\n",
      "10\n",
      "11\n",
      "12\n",
      "13\n",
      "14\n",
      "15\n",
      "16\n",
      "17\n",
      "18\n",
      "19\n",
      "20\n",
      "21\n",
      "22\n",
      "23\n",
      "24\n",
      "25\n",
      "26\n",
      "27\n",
      "28\n",
      "29\n",
      "30\n",
      "31\n",
      "32\n",
      "33\n",
      "34\n",
      "35\n",
      "36\n",
      "37\n",
      "38\n",
      "39\n",
      "40\n",
      "41\n",
      "42\n",
      "43\n",
      "44\n",
      "45\n",
      "46\n",
      "47\n",
      "48\n",
      "49\n",
      "50\n",
      "51\n",
      "52\n",
      "53\n",
      "54\n",
      "55\n",
      "56\n",
      "57\n",
      "58\n",
      "59\n",
      "60\n",
      "61\n",
      "62\n",
      "63\n",
      "64\n",
      "65\n",
      "66\n",
      "67\n",
      "68\n",
      "69\n",
      "70\n",
      "71\n",
      "72\n",
      "73\n",
      "74\n",
      "75\n",
      "76\n",
      "77\n",
      "78\n",
      "79\n",
      "80\n",
      "81\n",
      "82\n",
      "83\n",
      "84\n",
      "85\n",
      "86\n",
      "87\n",
      "88\n",
      "89\n",
      "90\n",
      "91\n",
      "92\n",
      "93\n",
      "94\n",
      "95\n",
      "96\n",
      "97\n",
      "98\n",
      "99\n",
      "100\n"
     ]
    }
   ],
   "source": [
    "# print no from 0 to 100\n",
    "for i in range(1,101):\n",
    "    print(i)"
   ]
  },
  {
   "cell_type": "code",
   "execution_count": 57,
   "id": "c29b19a8-0e8d-462a-911b-68ebaf9cd7b0",
   "metadata": {},
   "outputs": [
    {
     "name": "stdout",
     "output_type": "stream",
     "text": [
      "100\n",
      "99\n",
      "98\n",
      "97\n",
      "96\n",
      "95\n",
      "94\n",
      "93\n",
      "92\n",
      "91\n",
      "90\n",
      "89\n",
      "88\n",
      "87\n",
      "86\n",
      "85\n",
      "84\n",
      "83\n",
      "82\n",
      "81\n",
      "80\n",
      "79\n",
      "78\n",
      "77\n",
      "76\n",
      "75\n",
      "74\n",
      "73\n",
      "72\n",
      "71\n",
      "70\n",
      "69\n",
      "68\n",
      "67\n",
      "66\n",
      "65\n",
      "64\n",
      "63\n",
      "62\n",
      "61\n",
      "60\n",
      "59\n",
      "58\n",
      "57\n",
      "56\n",
      "55\n",
      "54\n",
      "53\n",
      "52\n",
      "51\n",
      "50\n",
      "49\n",
      "48\n",
      "47\n",
      "46\n",
      "45\n",
      "44\n",
      "43\n",
      "42\n",
      "41\n",
      "40\n",
      "39\n",
      "38\n",
      "37\n",
      "36\n",
      "35\n",
      "34\n",
      "33\n",
      "32\n",
      "31\n",
      "30\n",
      "29\n",
      "28\n",
      "27\n",
      "26\n",
      "25\n",
      "24\n",
      "23\n",
      "22\n",
      "21\n",
      "20\n",
      "19\n",
      "18\n",
      "17\n",
      "16\n",
      "15\n",
      "14\n",
      "13\n",
      "12\n",
      "11\n",
      "10\n",
      "9\n",
      "8\n",
      "7\n",
      "6\n",
      "5\n",
      "4\n",
      "3\n",
      "2\n",
      "1\n"
     ]
    }
   ],
   "source": [
    "#print no from 100 to 1\n",
    "for i in range(100,0,-1):\n",
    "    print(i)"
   ]
  },
  {
   "cell_type": "code",
   "execution_count": 61,
   "id": "2a535af6-315b-4547-aab4-0a3a4af4eda1",
   "metadata": {},
   "outputs": [
    {
     "name": "stdin",
     "output_type": "stream",
     "text": [
      "enter a number 5\n"
     ]
    },
    {
     "name": "stdout",
     "output_type": "stream",
     "text": [
      "5\n",
      "10\n",
      "15\n",
      "20\n",
      "25\n",
      "30\n",
      "35\n",
      "40\n",
      "45\n",
      "50\n"
     ]
    }
   ],
   "source": [
    "#print the multiplication table of n\n",
    "n=int(input(\"enter a number\"))\n",
    "for i in range(1,11):\n",
    "      print(n*i)"
   ]
  },
  {
   "cell_type": "code",
   "execution_count": 69,
   "id": "45308c34-4675-458c-8847-20a96ceac238",
   "metadata": {},
   "outputs": [
    {
     "name": "stdout",
     "output_type": "stream",
     "text": [
      "some useful work\n"
     ]
    }
   ],
   "source": [
    "#pass statement if u wanna add code further in loop\n",
    "# pass is a null statement that does nothing. it is used as a placeholder for future code.\n",
    "for i in range(5):\n",
    "    pass  #u get error without pass\n",
    "if i > 5:  #if u wanna assign action but not now\n",
    "    pass\n",
    "print(\"some useful work\")"
   ]
  },
  {
   "cell_type": "code",
   "execution_count": 73,
   "id": "580c81e9-7b3a-478d-a04d-7276b55efd45",
   "metadata": {},
   "outputs": [
    {
     "name": "stdout",
     "output_type": "stream",
     "text": [
      "total sum =  15\n"
     ]
    }
   ],
   "source": [
    "#WAP to find the sum of first n numbers.\n",
    "n=5\n",
    "sum=0\n",
    "for i in range(1, n+1):\n",
    "    sum +=i\n",
    "print(\"total sum = \" ,sum)"
   ]
  },
  {
   "cell_type": "code",
   "execution_count": 79,
   "id": "c4ae2fb4-e5fc-4134-8fd8-85efb6508dba",
   "metadata": {},
   "outputs": [
    {
     "name": "stdin",
     "output_type": "stream",
     "text": [
      " 10\n"
     ]
    },
    {
     "name": "stdout",
     "output_type": "stream",
     "text": [
      "total sum = 55\n"
     ]
    }
   ],
   "source": [
    "#or\n",
    "n=int(input())\n",
    "sum=0\n",
    "for i in range(1, n+1):\n",
    "    sum +=i\n",
    "print(\"total sum =\",sum)"
   ]
  },
  {
   "cell_type": "code",
   "execution_count": null,
   "id": "c627487d-f4c3-408e-b4d1-3806f800fb17",
   "metadata": {},
   "outputs": [],
   "source": [
    "#WAP to find the sum of first n numbers. (using while)\n",
    "n=5\n",
    "sum=0\n",
    "i=1\n",
    "while i<=n:\n",
    "    sum+=i\n",
    "print(\"total sum = \", sum)"
   ]
  },
  {
   "cell_type": "code",
   "execution_count": 8,
   "id": "f1d94c9f-090c-4a2f-8617-ec77c7c6a47e",
   "metadata": {},
   "outputs": [
    {
     "name": "stdout",
     "output_type": "stream",
     "text": [
      "total sum =  15\n"
     ]
    }
   ],
   "source": [
    "#WAP to find the sum of first n numbers. (using while)\n",
    "n= 5\n",
    "sum=0\n",
    "i= 1\n",
    "while i <= n:\n",
    "    sum+=i\n",
    "    i +=1\n",
    "print(\"total sum = \", sum)"
   ]
  },
  {
   "cell_type": "code",
   "execution_count": 16,
   "id": "51be255c-a732-4e33-8003-9bebafbd18a4",
   "metadata": {},
   "outputs": [
    {
     "name": "stdout",
     "output_type": "stream",
     "text": [
      "total sum =  24\n"
     ]
    }
   ],
   "source": [
    "# #WAP to find the factorial of first n nu\n",
    "# n=1 → 1\n",
    "# n = 2 → 2\n",
    "# n =3 → 6\n",
    "# n = 4 → 24\n",
    "# n=5 → 120\n",
    "# .\n",
    "# .\n",
    "# .\n",
    "# and so on\n",
    "\n",
    "n= 4\n",
    "fact=1\n",
    "i= 1\n",
    "while i <= n:\n",
    "    fact*=i\n",
    "    i +=1\n",
    "print(\"total sum = \", fact)"
   ]
  },
  {
   "cell_type": "code",
   "execution_count": 20,
   "id": "693bb393-28f6-4291-8ea7-b08b99dee0dd",
   "metadata": {},
   "outputs": [
    {
     "name": "stdout",
     "output_type": "stream",
     "text": [
      "factorial = 120\n"
     ]
    }
   ],
   "source": [
    "n = 5\n",
    "fact = 1\n",
    "for i in range(1, n+1):\n",
    "    fact *= i\n",
    "print(\"factorial =\", fact)"
   ]
  },
  {
   "cell_type": "code",
   "execution_count": null,
   "id": "70bf1dbb-667d-419a-abff-faa60166649d",
   "metadata": {},
   "outputs": [],
   "source": []
  }
 ],
 "metadata": {
  "kernelspec": {
   "display_name": "Python 3 (ipykernel)",
   "language": "python",
   "name": "python3"
  },
  "language_info": {
   "codemirror_mode": {
    "name": "ipython",
    "version": 3
   },
   "file_extension": ".py",
   "mimetype": "text/x-python",
   "name": "python",
   "nbconvert_exporter": "python",
   "pygments_lexer": "ipython3",
   "version": "3.11.7"
  }
 },
 "nbformat": 4,
 "nbformat_minor": 5
}
