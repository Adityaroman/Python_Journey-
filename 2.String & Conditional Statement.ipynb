{
 "cells": [
  {
   "cell_type": "code",
   "execution_count": 20,
   "id": "a1878a75-1f92-4845-a443-ace0da3bfdb7",
   "metadata": {},
   "outputs": [
    {
     "name": "stdout",
     "output_type": "stream",
     "text": [
      "hi this is aditya,\n",
      "wanna talk about something\n"
     ]
    }
   ],
   "source": [
    "str1=(\"hi this is aditya,\\nwanna talk about something\")\n",
    "print(str1)"
   ]
  },
  {
   "cell_type": "code",
   "execution_count": 6,
   "id": "a7d8ff44-e8bb-43cc-b31b-589abc2b8848",
   "metadata": {},
   "outputs": [
    {
     "name": "stdout",
     "output_type": "stream",
     "text": [
      "hi this is aditya,\t wanna talk about something\n"
     ]
    }
   ],
   "source": [
    "str1=(\"hi this is aditya,\\twanna talk about something\")\n",
    "print(str1)"
   ]
  },
  {
   "cell_type": "code",
   "execution_count": 10,
   "id": "35a16a55-558b-42c3-a450-17e03bd0005b",
   "metadata": {},
   "outputs": [
    {
     "name": "stdout",
     "output_type": "stream",
     "text": [
      "mangoguava\n"
     ]
    }
   ],
   "source": [
    "str1 = \"mango\"\n",
    "str2= \"guava\"\n",
    "Final_str=str1+str2\n",
    "print(Final_str)\n"
   ]
  },
  {
   "cell_type": "code",
   "execution_count": 2,
   "id": "4e83840f-8840-493d-ad19-c61028909f4d",
   "metadata": {},
   "outputs": [
    {
     "name": "stdout",
     "output_type": "stream",
     "text": [
      "12\n",
      "6\n",
      "<class 'str'>\n"
     ]
    }
   ],
   "source": [
    "a = (\"adityasharma\")\n",
    "print(len(a))\n",
    "#or\n",
    "str1=\"aditya\"\n",
    "len1=len(str1)\n",
    "print(len1)\n",
    "print(type(str1))"
   ]
  },
  {
   "cell_type": "code",
   "execution_count": 32,
   "id": "ee020e4d-fcaf-44a1-9a2c-1c2e5e77cfb0",
   "metadata": {},
   "outputs": [
    {
     "name": "stdout",
     "output_type": "stream",
     "text": [
      "6\n",
      "6\n",
      "aditya Sharma\n",
      "13\n"
     ]
    }
   ],
   "source": [
    "str1=\"aditya\"\n",
    "len1=len(str1)\n",
    "print(len1)\n",
    "\n",
    "str2=\"Sharma\"\n",
    "len2=len(str2)\n",
    "print(len2)\n",
    "\n",
    "final_str = str1 + \" \" + str2\n",
    "print(final_str)\n",
    "print(len(final_str))"
   ]
  },
  {
   "cell_type": "code",
   "execution_count": 52,
   "id": "e464a085-29ec-4844-bf7d-e9d7bb47fc87",
   "metadata": {},
   "outputs": [
    {
     "name": "stdout",
     "output_type": "stream",
     "text": [
      "y\n",
      "y\n"
     ]
    },
    {
     "ename": "TypeError",
     "evalue": "'str' object does not support item assignment",
     "output_type": "error",
     "traceback": [
      "\u001b[1;31m---------------------------------------------------------------------------\u001b[0m",
      "\u001b[1;31mTypeError\u001b[0m                                 Traceback (most recent call last)",
      "Cell \u001b[1;32mIn[52], line 9\u001b[0m\n\u001b[0;32m      7\u001b[0m \u001b[38;5;66;03m#Error if you are trying to manuplate or change suppose\u001b[39;00m\n\u001b[0;32m      8\u001b[0m \u001b[38;5;28mstr\u001b[39m\u001b[38;5;241m=\u001b[39m\u001b[38;5;124m\"\u001b[39m\u001b[38;5;124mAditya sharma\u001b[39m\u001b[38;5;124m\"\u001b[39m\n\u001b[1;32m----> 9\u001b[0m \u001b[38;5;28mstr\u001b[39m[\u001b[38;5;241m4\u001b[39m]\u001b[38;5;241m=\u001b[39m\u001b[38;5;124m\"\u001b[39m\u001b[38;5;124m@\u001b[39m\u001b[38;5;124m\"\u001b[39m\n\u001b[0;32m     10\u001b[0m \u001b[38;5;28mprint\u001b[39m(\u001b[38;5;28mstr\u001b[39m)\n",
      "\u001b[1;31mTypeError\u001b[0m: 'str' object does not support item assignment"
     ]
    }
   ],
   "source": [
    "str = \"Aditya sharma\"\n",
    "ch = str[4]\n",
    "print(ch)\n",
    "#or\n",
    "str = \"Aditya sharma\"\n",
    "print(str[4])\n",
    "#Error if you are trying to manuplate modify or change suppose\n",
    "str=\"Aditya sharma\"\n",
    "str[4]=\"@\"\n",
    "print(str)"
   ]
  },
  {
   "cell_type": "code",
   "execution_count": 64,
   "id": "36dfc890-f3d9-43d4-8193-74b3f72f0ac4",
   "metadata": {},
   "outputs": [
    {
     "name": "stdout",
     "output_type": "stream",
     "text": [
      "dity\n",
      "aSharma\n",
      "aSharma\n",
      "Adity\n"
     ]
    }
   ],
   "source": [
    "str=\"AdityaSharma\"\n",
    "print(str[1:5])\n",
    "#or\n",
    "str=\"AdityaSharma\"\n",
    "print(str[5:len(str)])\n",
    "print(str[5:])#[5:len(str)]\n",
    "print(str[:5])#[0:5]"
   ]
  },
  {
   "cell_type": "code",
   "execution_count": 82,
   "id": "3597d25d-0143-4b7b-a3d9-f6e4db5b81c0",
   "metadata": {},
   "outputs": [
    {
     "name": "stdout",
     "output_type": "stream",
     "text": [
      "Appl\n",
      "Apple\n"
     ]
    }
   ],
   "source": [
    "str=\"Apple\"\n",
    "print(str[-5:-1])\n",
    "print(str[-5:])"
   ]
  },
  {
   "cell_type": "code",
   "execution_count": 98,
   "id": "39719818-23d3-4e1d-b8d8-7553eb2a5cf8",
   "metadata": {},
   "outputs": [
    {
     "name": "stdout",
     "output_type": "stream",
     "text": [
      "True\n",
      "I am studiying in the library\n"
     ]
    }
   ],
   "source": [
    "#String functions\n",
    "str=\"i am studiying in the library\"\n",
    "print(str.endswith(\"ry\"))\n",
    "\n",
    "str=\"i am studiying in the library\"\n",
    "str=str.capitalize()#For change in original str #For change in new string by creating ->print(str.capitalize())\n",
    "print(str)\n"
   ]
  },
  {
   "cell_type": "code",
   "execution_count": 4,
   "id": "75f331c3-02d4-4dcf-92af-eb9009e6f360",
   "metadata": {},
   "outputs": [
    {
     "name": "stdout",
     "output_type": "stream",
     "text": [
      "you are in the library\n"
     ]
    }
   ],
   "source": [
    "str=\"i am in the library\"\n",
    "print(str.replace(\"i am\",\"you are\"))"
   ]
  },
  {
   "cell_type": "code",
   "execution_count": 104,
   "id": "ad67407c-1e24-4687-b16d-85de649df1ad",
   "metadata": {},
   "outputs": [
    {
     "name": "stdout",
     "output_type": "stream",
     "text": [
      "11\n"
     ]
    }
   ],
   "source": [
    "str=\"i am studiying in the library\"\n",
    "print(str.find(\"in\"))"
   ]
  },
  {
   "cell_type": "code",
   "execution_count": 108,
   "id": "1daf1ccb-9a31-4c75-92a8-9d73be072452",
   "metadata": {},
   "outputs": [
    {
     "name": "stdout",
     "output_type": "stream",
     "text": [
      "5\n"
     ]
    }
   ],
   "source": [
    "str=\"i am studiying in the library\"\n",
    "print(str.count(\"i\"))"
   ]
  },
  {
   "cell_type": "code",
   "execution_count": 112,
   "id": "657c94d5-7b44-40b5-b071-042dd1ddea2c",
   "metadata": {},
   "outputs": [
    {
     "name": "stdin",
     "output_type": "stream",
     "text": [
      "enter your name:  aditya sharma\n"
     ]
    },
    {
     "name": "stdout",
     "output_type": "stream",
     "text": [
      "length of your name is 13\n"
     ]
    }
   ],
   "source": [
    "#to print length of the string\n",
    "name = input(\"enter your name: \")\n",
    "print(\"length of your name is\", len(name))\n"
   ]
  },
  {
   "cell_type": "code",
   "execution_count": 130,
   "id": "941bf240-78d9-4dc9-b8ba-847933c6a441",
   "metadata": {},
   "outputs": [
    {
     "name": "stdout",
     "output_type": "stream",
     "text": [
      "you can vote and apply for licence\n",
      "can also drive\n"
     ]
    }
   ],
   "source": [
    "age=22\n",
    "if (age>=18): # OR U can put True insted\n",
    "    print(\"you can vote and apply for licence\")\n",
    "    print(\"can also drive\")#u can use multiple print\n",
    "else:\n",
    "    print(\"u can't vote\")\n",
    "    print(\"u can't drive\")\n",
    "   \n"
   ]
  },
  {
   "cell_type": "code",
   "execution_count": 136,
   "id": "9ae4a6fa-f818-45c9-989b-b3f25505c8ca",
   "metadata": {},
   "outputs": [
    {
     "name": "stdout",
     "output_type": "stream",
     "text": [
      "Stop Please\n"
     ]
    }
   ],
   "source": [
    "light = \"Red\"\n",
    "if (light==\"Red\"):\n",
    "    print(\"Stop Please\")\n",
    "elif (light==\"Green\"):\n",
    "    print(\"Go\")\n",
    "elif (light==\"Yello\"):\n",
    "    print(\"Go slow\")\n",
    "else:\n",
    "    print(\"Have a look\")"
   ]
  },
  {
   "cell_type": "code",
   "execution_count": 144,
   "id": "92eb5850-b29f-4a29-b449-5623f05ae378",
   "metadata": {},
   "outputs": [
    {
     "name": "stdin",
     "output_type": "stream",
     "text": [
      "Please enter the signal Red\n"
     ]
    },
    {
     "name": "stdout",
     "output_type": "stream",
     "text": [
      "Stop Please\n"
     ]
    }
   ],
   "source": [
    "light = (input(\"Please enter the signal\"))\n",
    "if (light==\"Red\"):    #U can use multiple times\n",
    "    print(\"Stop Please\")\n",
    "elif (light==\"Green\"):  #U can use multiple times\n",
    "    print(\"Go\")\n",
    "elif (light==\"Yello\"):\n",
    "    print(\"Go slow\")\n",
    "else:            #u can use only for one time\n",
    "    print(\"Have a look\")"
   ]
  },
  {
   "cell_type": "code",
   "execution_count": 150,
   "id": "bb3121cb-53ad-4a8e-83ef-9c9967e6b019",
   "metadata": {},
   "outputs": [
    {
     "name": "stdout",
     "output_type": "stream",
     "text": [
      "num is less than 5\n"
     ]
    }
   ],
   "source": [
    "num=2\n",
    "if (num>3):\n",
    "    print(\"num is Greater than 5\") #indentation (spacing) is used in python insted of {})\n",
    "if (num<5):\n",
    "    print(\"num is less than 5\")"
   ]
  },
  {
   "cell_type": "code",
   "execution_count": 188,
   "id": "41ae6cbc-f2d8-482b-87c4-008eaddee7f5",
   "metadata": {},
   "outputs": [
    {
     "name": "stdout",
     "output_type": "stream",
     "text": [
      "can drive\n"
     ]
    }
   ],
   "source": [
    "#nesting\n",
    "age = 66\n",
    "if (age>=18):\n",
    "    if (age>=80):\n",
    "         print(\"cannot drive\")\n",
    "    else:\n",
    "        print(\"can drive\")\n",
    "else:\n",
    "    print(\"cannot drive\")\n",
    "        \n",
    "   "
   ]
  },
  {
   "cell_type": "code",
   "execution_count": 190,
   "id": "985a3f7f-8c60-4dc9-ba72-f859731aae3d",
   "metadata": {},
   "outputs": [
    {
     "name": "stdin",
     "output_type": "stream",
     "text": [
      "enter a mumber 5\n"
     ]
    },
    {
     "name": "stdout",
     "output_type": "stream",
     "text": [
      "Odd\n"
     ]
    }
   ],
   "source": [
    "#wap for even or odd\n",
    "num =int(input(\"enter a mumber: \"))\n",
    "rem= num % 2\n",
    "if (rem==0):\n",
    "    print(\"Even\")\n",
    "else:\n",
    "    print(\"Odd\")\n",
    "\n",
    "    "
   ]
  },
  {
   "cell_type": "code",
   "execution_count": 192,
   "id": "cd9e6a76-c7da-4a49-956b-bca223842755",
   "metadata": {},
   "outputs": [
    {
     "name": "stdin",
     "output_type": "stream",
     "text": [
      "enter a mumber:  5\n"
     ]
    },
    {
     "name": "stdout",
     "output_type": "stream",
     "text": [
      "Odd\n"
     ]
    }
   ],
   "source": [
    "#OR\n",
    "num =int(input(\"enter a mumber: \"))\n",
    "if (num%2==0):\n",
    "    print(\"Even\")\n",
    "else:\n",
    "    print(\"Odd\")\n",
    "\n",
    "    \n"
   ]
  },
  {
   "cell_type": "code",
   "execution_count": 202,
   "id": "6dce328f-46dd-42de-bf53-cd4cba50aae2",
   "metadata": {},
   "outputs": [
    {
     "name": "stdin",
     "output_type": "stream",
     "text": [
      "enter first number 5\n",
      "enter second number 6\n",
      "enter third number 7\n"
     ]
    },
    {
     "name": "stdout",
     "output_type": "stream",
     "text": [
      "the gretest number is:  7\n"
     ]
    }
   ],
   "source": [
    "#WAP to find gretest of three no.\n",
    "a= int(input(\"enter first number\"))\n",
    "b= int(input(\"enter second number\"))\n",
    "c= int(input(\"enter third number\"))\n",
    "if(a>=b and a>=c):\n",
    "    print(\"the gretest number is: \",a)\n",
    "elif(b>=c):\n",
    "    print(\"the gretest number is: \",b)\n",
    "else:\n",
    "    print(\"the gretest number is: \",c)"
   ]
  },
  {
   "cell_type": "code",
   "execution_count": 206,
   "id": "844a563c-9d9f-4281-bea6-e4d751665ec4",
   "metadata": {},
   "outputs": [
    {
     "name": "stdin",
     "output_type": "stream",
     "text": [
      "enter first number 50\n",
      "enter second number 60\n",
      "enter third number 70\n",
      "enter fourth number 80\n"
     ]
    },
    {
     "name": "stdout",
     "output_type": "stream",
     "text": [
      "the gretest number is:  80\n"
     ]
    }
   ],
   "source": [
    "#WAP to find gretest of four numbers\n",
    "a= int(input(\"enter first number\"))\n",
    "b= int(input(\"enter second number\"))\n",
    "c= int(input(\"enter third number\"))\n",
    "d=int(input(\"enter fourth number\"))\n",
    "if a>=b and a>=c and a>=d:\n",
    "    print(\"the gretest number is: \",a)\n",
    "elif b>=c and b>=d:\n",
    "    print(\"the gretest number is: \",b)\n",
    "elif c>=d:\n",
    "    print(\"the gretest number is: \",c)\n",
    "else:\n",
    "    print(\"the gretest number is: \",d)\n",
    "    \n"
   ]
  },
  {
   "cell_type": "code",
   "execution_count": 2,
   "id": "89fa0f79-c1f1-4923-8baf-4d482ff287b7",
   "metadata": {},
   "outputs": [
    {
     "name": "stdin",
     "output_type": "stream",
     "text": [
      "enter a number:  66\n"
     ]
    },
    {
     "name": "stdout",
     "output_type": "stream",
     "text": [
      "not a multiple: \n"
     ]
    }
   ],
   "source": [
    "#WAP to check multiple of 7 or not\n",
    "x = int(input(\"enter a number: \"))\n",
    "if (x%7==0):\n",
    "    print(\"Multiple of 7: \")\n",
    "else:\n",
    "    print(\"not a multiple: \")"
   ]
  },
  {
   "cell_type": "code",
   "execution_count": 12,
   "id": "f6ee203e-76e1-4b3a-adb6-c6cad15b6e49",
   "metadata": {},
   "outputs": [
    {
     "name": "stdin",
     "output_type": "stream",
     "text": [
      "enter your days: 66\n"
     ]
    },
    {
     "name": "stdout",
     "output_type": "stream",
     "text": [
      "300\n"
     ]
    }
   ],
   "source": [
    "#Calculate price\n",
    "#till five days:Rs.2/day\n",
    "#Six to 10 days:Rs.3/day\n",
    "#11 to 15 days:Rs.4/day\n",
    "#After 15days:Rs.5/day\n",
    "n= int(input(\"enter your days:\"))\n",
    "\n",
    "if (n<=2):\n",
    "    print(n*2)\n",
    "elif (n>=6 and n<10):\n",
    "    print(10+(n-5)*3)\n",
    "elif (n>=11 and n<=15):\n",
    "    print(25+(n-10)*4)\n",
    "elif(n>16):\n",
    "    print(45+(n-15)*5)\n",
    "else:\n",
    "    print(\"na\")\n",
    "     "
   ]
  },
  {
   "cell_type": "code",
   "execution_count": 14,
   "id": "1055e2e6-e592-4153-bcba-4457267f9c95",
   "metadata": {},
   "outputs": [
    {
     "name": "stdin",
     "output_type": "stream",
     "text": [
      "enter a number: 33\n"
     ]
    },
    {
     "name": "stdout",
     "output_type": "stream",
     "text": [
      "WEIRD\n"
     ]
    }
   ],
   "source": [
    "# odd or even\n",
    "n = int(input(\"enter a number:\"))\n",
    "\n",
    "if n>0:\n",
    "    if n%2 != 0:\n",
    "        print(\"WEIRD\")\n",
    "    elif n%2==0 and (n>2 and n<=5):\n",
    "        print(\"not weirrd\")\n",
    "    elif n%2==0 and (n>=6 and n<=20):\n",
    "        print(\"weird\")\n",
    "    elif n%2==0 and n>20:\n",
    "        print(\"not weird\")\n",
    "    else:\n",
    "        print(\"NA\")\n",
    "       "
   ]
  },
  {
   "cell_type": "code",
   "execution_count": 18,
   "id": "7e0e2f9b-32c6-4610-b31d-bcd702b6f361",
   "metadata": {},
   "outputs": [
    {
     "name": "stdout",
     "output_type": "stream",
     "text": [
      "the gminimum no out of all is: 1\n",
      "the greatest no out of all is: 5\n"
     ]
    }
   ],
   "source": [
    "#wap to print the greatest of three numbers.(without using max,min)\n",
    "#find second greatest no out of it \n",
    "#wap to find the smallest of given four no.\n",
    "a=1\n",
    "b=2\n",
    "c=5\n",
    "greatest = min(a,b,c)\n",
    "greatest2 = max(a,b,c)\n",
    "print(\"the gminimum no out of all is:\", greatest)\n",
    "print(\"the greatest no out of all is:\", greatest2)\n"
   ]
  },
  {
   "cell_type": "code",
   "execution_count": 20,
   "id": "ee8590e4-be45-4217-bcde-0bfa811b763e",
   "metadata": {},
   "outputs": [
    {
     "name": "stdin",
     "output_type": "stream",
     "text": [
      "enter a year: 2023\n"
     ]
    },
    {
     "name": "stdout",
     "output_type": "stream",
     "text": [
      "No it is not a leap year\n"
     ]
    }
   ],
   "source": [
    "#to check leap year\n",
    "y= int(input(\"enter a year:\"))\n",
    "\n",
    "if (y%4 == 0 and y%100 != 0) or (y%400 == 0):\n",
    "    print(\"it is a leap year\")\n",
    "else:\n",
    "    print(\"No it is not a leap year\")\n",
    "    \n",
    "       "
   ]
  },
  {
   "cell_type": "code",
   "execution_count": 22,
   "id": "0159bb98-f84b-4371-a88d-82f965040921",
   "metadata": {},
   "outputs": [
    {
     "name": "stdin",
     "output_type": "stream",
     "text": [
      "enter your numbr 33\n"
     ]
    },
    {
     "name": "stdout",
     "output_type": "stream",
     "text": [
      "1089 True\n"
     ]
    }
   ],
   "source": [
    "n = int(input(\"enter your numbr\"))\n",
    "\n",
    "if n >0:\n",
    "    print(n*n, True)\n",
    "else:\n",
    "    print(n*n*n, True)"
   ]
  },
  {
   "cell_type": "code",
   "execution_count": 26,
   "id": "08368f3c-2adf-4a0f-a916-f4c2f584e341",
   "metadata": {},
   "outputs": [
    {
     "name": "stdin",
     "output_type": "stream",
     "text": [
      "enter your numbr 55\n"
     ]
    },
    {
     "name": "stdout",
     "output_type": "stream",
     "text": [
      "not divisible\n"
     ]
    }
   ],
   "source": [
    "#wap to check wether the user input number which is div. by both 2 & 3\n",
    "L = int(input(\"enter your numbr\"))\n",
    "\n",
    "if L%2==0 and L%3==0: #and here and T&F so False\n",
    "    print(\"Yes both is divisible by 2 and 3\")\n",
    "else:\n",
    "    print(\"not divisible\")\n",
    "    "
   ]
  },
  {
   "cell_type": "code",
   "execution_count": 28,
   "id": "95567eca-b425-4f0c-963b-fc9513937239",
   "metadata": {},
   "outputs": [
    {
     "name": "stdin",
     "output_type": "stream",
     "text": [
      "enter your secured marks: 30\n"
     ]
    },
    {
     "name": "stdout",
     "output_type": "stream",
     "text": [
      "Fail\n"
     ]
    }
   ],
   "source": [
    "student_marks=int(input(\"enter your secured marks:\"))\n",
    "if student_marks>=60:\n",
    "    print('FIRST DIVISION')\n",
    "elif student_marks>=50 and student_marks<=59:\n",
    "    print(\"second division\")\n",
    "elif student_marks>=40 and student_marks<=49:\n",
    "    print(\"Third division\")\n",
    "elif student_marks<40:\n",
    "    print(\"Fail\")\n",
    "else:\n",
    "    print(\"NA\")\n",
    "    "
   ]
  },
  {
   "cell_type": "code",
   "execution_count": 34,
   "id": "1bb90ea2-3384-4ddc-a739-8f1594a037ae",
   "metadata": {},
   "outputs": [
    {
     "name": "stdin",
     "output_type": "stream",
     "text": [
      "Enter the first number:  2\n",
      "Enter the second number:  522\n",
      "Enter the third number:  11\n"
     ]
    },
    {
     "name": "stdout",
     "output_type": "stream",
     "text": [
      "The greatest number is: 522\n"
     ]
    }
   ],
   "source": [
    "# Program to find the greatest of three numbers (without using max or min):\n",
    "# Input three numbers\n",
    "a = int(input(\"Enter the first number: \"))\n",
    "b = int(input(\"Enter the second number: \"))\n",
    "c = int(input(\"Enter the third number: \"))\n",
    "\n",
    "# Find the greatest number\n",
    "if a > b and a > c:\n",
    "    greatest = a\n",
    "elif b > a and b > c:\n",
    "    greatest = b\n",
    "else:\n",
    "    greatest = c\n",
    "\n",
    "print(f\"The greatest number is: {greatest}\")"
   ]
  },
  {
   "cell_type": "code",
   "execution_count": 40,
   "id": "60041b4e-5221-4601-8c89-ff5b255352ed",
   "metadata": {},
   "outputs": [
    {
     "name": "stdout",
     "output_type": "stream",
     "text": [
      "The second greatest number is: 30\n"
     ]
    }
   ],
   "source": [
    "# Find the second greatest number\n",
    "a=20\n",
    "b=30\n",
    "c=40\n",
    "if (a > b and a < c) or (a > c and a < b):\n",
    "    second_greatest = a\n",
    "elif (b > a and b < c) or (b > c and b < a):\n",
    "    second_greatest = b\n",
    "else:\n",
    "    second_greatest = c\n",
    "\n",
    "print(f\"The second greatest number is: {second_greatest}\")"
   ]
  },
  {
   "cell_type": "code",
   "execution_count": 2,
   "id": "fe2d5208-640f-44e1-95d6-a5998d5b7b09",
   "metadata": {},
   "outputs": [
    {
     "name": "stdin",
     "output_type": "stream",
     "text": [
      "Enter the first number:  55\n",
      "Enter the second number:  55\n",
      "Enter the third number:  66\n",
      "Enter the fourth number:  22\n"
     ]
    },
    {
     "name": "stdout",
     "output_type": "stream",
     "text": [
      "The smallest number is: 22\n"
     ]
    }
   ],
   "source": [
    "#Program to find the smallest of four given numbers:\n",
    "# Input four numbers\n",
    "x = int(input(\"Enter the first number: \"))\n",
    "y = int(input(\"Enter the second number: \"))\n",
    "z = int(input(\"Enter the third number: \"))\n",
    "w = int(input(\"Enter the fourth number: \"))\n",
    "\n",
    "# Find the smallest number\n",
    "if x < y and x < z and x < w:\n",
    "    smallest = x\n",
    "elif y < x and y < z and y < w:\n",
    "    smallest = y\n",
    "elif z < x and z < y and z < w:\n",
    "    smallest = z\n",
    "else:\n",
    "    smallest = w\n",
    "\n",
    "print(f\"The smallest number is: {smallest}\")\n"
   ]
  },
  {
   "cell_type": "code",
   "execution_count": null,
   "id": "31546462-22a6-4957-b420-fa49fb7e07c6",
   "metadata": {},
   "outputs": [],
   "source": []
  }
 ],
 "metadata": {
  "kernelspec": {
   "display_name": "Python 3 (ipykernel)",
   "language": "python",
   "name": "python3"
  },
  "language_info": {
   "codemirror_mode": {
    "name": "ipython",
    "version": 3
   },
   "file_extension": ".py",
   "mimetype": "text/x-python",
   "name": "python",
   "nbconvert_exporter": "python",
   "pygments_lexer": "ipython3",
   "version": "3.11.7"
  }
 },
 "nbformat": 4,
 "nbformat_minor": 5
}
