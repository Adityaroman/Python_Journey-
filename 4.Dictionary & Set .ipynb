{
 "cells": [
  {
   "cell_type": "code",
   "execution_count": 8,
   "id": "2eb1a194-cf08-445d-98da-58d6280d7987",
   "metadata": {},
   "outputs": [
    {
     "ename": "SyntaxError",
     "evalue": "':' expected after dictionary key (1105353290.py, line 8)",
     "output_type": "error",
     "traceback": [
      "\u001b[1;36m  Cell \u001b[1;32mIn[8], line 8\u001b[1;36m\u001b[0m\n\u001b[1;33m    \"subjects\": \"data science\",\"Python\",\"Communication\",\u001b[0m\n\u001b[1;37m                                      ^\u001b[0m\n\u001b[1;31mSyntaxError\u001b[0m\u001b[1;31m:\u001b[0m ':' expected after dictionary key\n"
     ]
    }
   ],
   "source": [
    "#dictionary\n",
    "#we can't create duplicate Keys in Dictionary\n",
    "#\"String and Tuple is immutable and Dictionary and List is muttable\n",
    "#String,List,and Tuple have index But dictionary don't have index!\n",
    "info = {\n",
    "\"key\":\"value\",\n",
    "\"name\": \"aditya\",\n",
    "\"subjects\": \"data science\",\"Python\",\"Communication\",\n",
    "\"marks\": 99.7,\n",
    "\"Cgpa\": 8,\n",
    "\"is_adult\": True,\n",
    "\"learning\": \"coding\",\n",
    "\"10\":\"60\",#you can also create a key by using numbers or floating values in dict\n",
    "\"12.33\":\"Aditi\",# or floating values \n",
    "\"topics\": (\"dict\",\"tupple\"), #you can also create tuple inside the dictionary\n",
    "}\n",
    "print(info[\"name\"])\n",
    "print(info[\"subjects\"])\n",
    "print(info)\n",
    "print(type(info))"
   ]
  },
  {
   "cell_type": "code",
   "execution_count": 2,
   "id": "63005852-652c-4512-8136-9501fe29b48e",
   "metadata": {},
   "outputs": [
    {
     "name": "stdout",
     "output_type": "stream",
     "text": [
      "{'key': 'value', 'name': 'aditya', 'subjects': ['data science', 'Python', 'Communication'], 'marks': 99.7, 'Cgpa': 8, 'is_adult': True, 'learning': 'coding', '10': '60', '12.33': 'Aditi', 'topic': ('dict', 'tupple')}\n",
      "<class 'dict'>\n"
     ]
    }
   ],
   "source": [
    "#dictionary\n",
    "info = {\n",
    "\"key\":\"value\",\n",
    "\"name\": \"aditya\",\n",
    "\"subjects\": [\"data science\",\"Python\",\"Communication\"],\n",
    "\"marks\": 99.7,\n",
    "\"Cgpa\": 8,\n",
    "\"is_adult\": True,\n",
    "\"learning\": \"coding\",\n",
    "\"10\":\"60\",#you can also create a key by using numbers or floating values in dict\n",
    "\"12.33\":\"Aditi\",\n",
    "\"topic\": (\"dict\",\"tupple\"), #tuple inside the dictionary\n",
    "}\n",
    "\n",
    "print(info)\n",
    "print(type(info))"
   ]
  },
  {
   "cell_type": "code",
   "execution_count": 118,
   "id": "3be77b3f-9c5d-4bd9-a082-e63c0fa22015",
   "metadata": {},
   "outputs": [
    {
     "name": "stdout",
     "output_type": "stream",
     "text": [
      "{'phone number': '9008883942'}\n"
     ]
    }
   ],
   "source": [
    "#create a null dictionary and you can assign the values further\n",
    "Null_dict={} #(for ppt you can also create a empty dict like i have created a null dict here and...\n",
    "Null_dict[\"phone number\"]= \"9008883942\"\n",
    "print(Null_dict)"
   ]
  },
  {
   "cell_type": "code",
   "execution_count": 142,
   "id": "c3fcc4de-adac-4665-8bb3-d781208cbc51",
   "metadata": {},
   "outputs": [
    {
     "name": "stdout",
     "output_type": "stream",
     "text": [
      "{'name': 'Aditya sharma', 'subject': {'Maths': 50, 'science': 67, 'chemistry': 80}}\n",
      "{'Maths': 50, 'science': 67, 'chemistry': 80}\n",
      "50\n"
     ]
    }
   ],
   "source": [
    "#we can create dictionary inside a dictionary and the concept is called Nested Dictionary\n",
    "student={\n",
    "    \"name\":\"Aditya sharma\",\n",
    "    \"subject\":{\n",
    "        \"Maths\": 50,\n",
    "        \"science\":67,\n",
    "        \"chemistry\":80,\n",
    "    }\n",
    "}\n",
    "print(student)\n",
    "print(student[\"subject\"])   t \n",
    "print(student[\"subject\"][\"Maths\"]) "
   ]
  },
  {
   "cell_type": "code",
   "execution_count": 227,
   "id": "d8b17850-9c81-46e7-8136-df16c25c7525",
   "metadata": {},
   "outputs": [
    {
     "name": "stdout",
     "output_type": "stream",
     "text": [
      "dict_keys(['name', 'subject'])\n",
      "['name', 'subject']\n",
      "2\n",
      "2\n",
      "dict_values(['Aditya sharma', {'Maths': 50, 'science': 67, 'chemistry': 80}])\n",
      "dict_items([('name', 'Aditya sharma'), ('subject', {'Maths': 50, 'science': 67, 'chemistry': 80})])\n",
      "[('name', 'Aditya sharma'), ('subject', {'Maths': 50, 'science': 67, 'chemistry': 80})]\n",
      "('name', 'Aditya sharma')\n",
      "Aditya sharma\n",
      "{'name': 'Aditya sharma', 'subject': {'Maths': 50, 'science': 67, 'chemistry': 80}, 'city': 'Bangalore'}\n"
     ]
    }
   ],
   "source": [
    "#Dictionary mathods\n",
    "student={\n",
    "    \"name\":\"Aditya sharma\",\n",
    "    \"subject\":{\n",
    "        \"Maths\": 50,\n",
    "        \"science\":67,\n",
    "        \"chemistry\":80,\n",
    "    }\n",
    "}\n",
    "\n",
    "print(student.keys())#1st Method\n",
    "print(list(student.keys())) #for typecasting\n",
    "print(len(student))\n",
    "print(len(list(student)))\n",
    "print(student.values())#2nd #only Return values\n",
    "print(student.items())#3rd  #it Returns all Keys and values\n",
    "print(list(student.items()))\n",
    "pairs=(list(student.items()))  #We can access through index after typecasting and by assigning\n",
    "print(pairs[0])#it returns  both key and value\n",
    "pairs=(list(student.values()))#it returns only values of that index  \n",
    "print(pairs[0])\n",
    "student[\"subject\"] #it returns error in case of wrong key value input   #To get values of any specific key\n",
    "student.get(\"subject\")#4rth   #same but not giving any error for wrong input insted it returns None\n",
    "student.update({\"city\":\"Bangalore\"})#5th we can also add it in new dict like this but having same output\n",
    "                                        #new_dict={\"city\" : \"Delhi\"}OR{\"name\": \"neha kumari\", \"age\": 18}#make changes to the original dict because name key can not be rewrite so, it simpely overwright it to the original dict rather than in newely created dict \n",
    "                                        #student.update(new_dict)#it wonn't create duplicate key\n",
    "print(student)"
   ]
  },
  {
   "cell_type": "code",
   "execution_count": 2,
   "id": "d3a4bdb6-8791-444c-86bf-6f85bf32e060",
   "metadata": {},
   "outputs": [
    {
     "name": "stdout",
     "output_type": "stream",
     "text": [
      "{1, 2, 3, 4, 5, 6}\n",
      "<class 'set'>\n",
      "{'2', '7', 'heyyy', 'hello'}\n",
      "<class 'set'>\n"
     ]
    }
   ],
   "source": [
    "#set in Python\n",
    "#Set is a collection of the unordered items.\n",
    "#each element in the set must be unique and immutable.(but only elements of the sets but set is muttable.\n",
    "#repeted elemnts stored only once\n",
    "#we can store >boolean,string,tuple,int,float BUT list and dictionary is not stored in set in python because they are muttable\n",
    "#set not have key and value pairs together\n",
    "collection = {1,2,3,4,5,6}\n",
    "print(collection)\n",
    "print(type(collection))\n",
    "#set is unordered because it prints rendomly each time\n",
    "#and it just ignores the duplicate values and won't give error for it\n",
    "#you can store multiple values like string,int.. \n",
    "collection={\"2\",\"2\",\"2\",\"heyyy\",\"heyyy\",\"hello\",\"7\"}\n",
    "print(collection)\n",
    "print(type(collection))"
   ]
  },
  {
   "cell_type": "code",
   "execution_count": 28,
   "id": "5bd3fb1d-9914-4259-bfc9-81447da1da82",
   "metadata": {},
   "outputs": [
    {
     "name": "stdout",
     "output_type": "stream",
     "text": [
      "<class 'set'>\n",
      "4\n",
      "{2, 3, (1, 2, 3, 4, 5, 5), 'Welcome'}\n"
     ]
    }
   ],
   "source": [
    "student= {}  #to create empty dictionary \n",
    "student= set()#and for empty set you have to use parenthesis #empty set: syntex\n",
    "print(type(student))\n",
    "# METHODS IN SET:\n",
    "collection=set()\n",
    "collection.add(1)\n",
    "collection.add(2)\n",
    "collection.add(3)\n",
    "collection.add(3)\n",
    "\n",
    "collection.remove(1)\n",
    "collection.add(\"Welcome\")\n",
    "collection.add((1,2,3,4,5,5))\n",
    "#collection.add([1,2,3,4,5,5])#u can not add list and dict in set u get  unhashable type:error\n",
    "#collection.clear()#to empty the whole set\n",
    "print(len(collection))\n",
    "print(collection)\n"
   ]
  },
  {
   "cell_type": "code",
   "execution_count": 60,
   "id": "90dc90e4-5c54-4c44-991c-9c37376828d3",
   "metadata": {},
   "outputs": [
    {
     "name": "stdout",
     "output_type": "stream",
     "text": [
      "world\n",
      "coding\n"
     ]
    }
   ],
   "source": [
    "collection={\"hello\",\"welcome\",\"heyy aditya\",\"coding\",\"world\"}\n",
    "print(collection.pop())#it pops random values each time\n",
    "print(collection.pop())"
   ]
  },
  {
   "cell_type": "code",
   "execution_count": 10,
   "id": "1359281a-de38-4faf-89c8-ecf9f2f7f5b6",
   "metadata": {},
   "outputs": [
    {
     "name": "stdout",
     "output_type": "stream",
     "text": [
      "{1, 2, 3, 4}\n",
      "{2, 3}\n"
     ]
    }
   ],
   "source": [
    "#Two importand set methods\n",
    "#1st  set.union(set2)#combines both set and returns new\n",
    "#2nd  set.intesection(set2)#combines common values and returns new\n",
    "set1={1,2,3}\n",
    "set2={2,3,4}\n",
    "print(set1.union(set2)) #{1,2,3,4}#remove duplicate\n",
    "print(set1.intersection(set2))#print only common in between"
   ]
  },
  {
   "cell_type": "code",
   "execution_count": 20,
   "id": "f39b59a5-068c-4d43-9d4a-0510720f4972",
   "metadata": {},
   "outputs": [
    {
     "name": "stdout",
     "output_type": "stream",
     "text": [
      "{'cat': 'a small animal', 'table': ['a piece of furniture', 'list of facts amd figures']}\n"
     ]
    }
   ],
   "source": [
    "dict={\n",
    "    \"cat\" :\"a small animal\",\n",
    "    \"table\": [\"a piece of furniture\", \"list of facts amd figures\"]\n",
    "}\n",
    "print(dict)"
   ]
  },
  {
   "cell_type": "code",
   "execution_count": 26,
   "id": "87e71456-6156-429b-8020-628dec20c06b",
   "metadata": {},
   "outputs": [
    {
     "name": "stdout",
     "output_type": "stream",
     "text": [
      "5\n"
     ]
    }
   ],
   "source": [
    "#you are given a list of subjects for students. Assume one classroom is required for 1subject. how many classrooms are needed by all students.\n",
    "subjects={\n",
    "    \"python\",\"java\",\"c++\",\"python\",\"javascript\",\"java\",\"python\",\"java\",\"c++\",\"c\" #remember to write it down with lower case otherwise it is considered as a new value example(C++,c++)\n",
    "}  \n",
    "\n",
    "print(len(subjects))#total class recquired"
   ]
  },
  {
   "cell_type": "code",
   "execution_count": 38,
   "id": "9638e28a-71b0-4659-9d39-a859d6da927c",
   "metadata": {},
   "outputs": [
    {
     "name": "stdin",
     "output_type": "stream",
     "text": [
      "enter phy:  66\n",
      "enter sci:  99\n",
      "enter maths:  88\n",
      "enter hindi:  77\n"
     ]
    },
    {
     "name": "stdout",
     "output_type": "stream",
     "text": [
      "{'phy': 66, 'sci': 99, 'maths': 88, 'hindi': 77}\n"
     ]
    }
   ],
   "source": [
    "#WAP to enter marks of 3 subjects from the user and store them in a dictionary. Start with\n",
    "#an empty dictionary & add one by one. Use subject name as key & marks as value.\n",
    "marks = {}\n",
    "x=int(input(\"enter phy: \"))\n",
    "marks.update({\"phy\" : x})\n",
    "\n",
    "x=int(input(\"enter sci: \"))\n",
    "marks.update({\"sci\" : x})\n",
    "\n",
    "x=int(input(\"enter maths: \"))\n",
    "marks.update({\"maths\" : x})\n",
    "\n",
    "x=int(input(\"enter hindi: \"))\n",
    "marks.update({\"hindi\" : x})\n",
    "print(marks)\n",
    "\n",
    "            \n",
    "\n"
   ]
  },
  {
   "cell_type": "code",
   "execution_count": 46,
   "id": "1bbc15af-fc8a-4696-88ea-934d55f40697",
   "metadata": {},
   "outputs": [
    {
     "name": "stdout",
     "output_type": "stream",
     "text": [
      "{'10.0', 10}\n",
      "{('int', 9), ('float', 9.0)}\n"
     ]
    }
   ],
   "source": [
    "#Figure out a way to store 9 & 9.0 as separate values in the set.\n",
    "#(You can take heint of built-in data types)\n",
    "#1st way\n",
    "values = {10, \"10.0\"}\n",
    "print(values)\n",
    " #OR\n",
    "\n",
    "values={\n",
    "    (\"float\",9.0),\n",
    "    (\"int\",9)\n",
    "}\n",
    "print(values)\n"
   ]
  }
 ],
 "metadata": {
  "kernelspec": {
   "display_name": "Python 3 (ipykernel)",
   "language": "python",
   "name": "python3"
  },
  "language_info": {
   "codemirror_mode": {
    "name": "ipython",
    "version": 3
   },
   "file_extension": ".py",
   "mimetype": "text/x-python",
   "name": "python",
   "nbconvert_exporter": "python",
   "pygments_lexer": "ipython3",
   "version": "3.11.7"
  }
 },
 "nbformat": 4,
 "nbformat_minor": 5
}
