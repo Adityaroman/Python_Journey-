{
 "cells": [
  {
   "cell_type": "code",
   "execution_count": null,
   "id": "0b996e39-3d38-4c2e-9959-41e69dc4e844",
   "metadata": {},
   "outputs": [],
   "source": [
    "# #Function in python is a block of reuseable code or statement that perform a speciic task.(AND REDUCE REDUNDENT)   \n",
    "# def function_name(param!,param2....)\n",
    "#    #some work\n",
    "#    return val\n",
    "# function_name(arg1,arg2...)#function_ call"
   ]
  },
  {
   "cell_type": "code",
   "execution_count": 11,
   "id": "efff0984-276c-456f-88e3-5f4cfbeca80f",
   "metadata": {},
   "outputs": [
    {
     "name": "stdout",
     "output_type": "stream",
     "text": [
      "15\n",
      "132\n"
     ]
    },
    {
     "data": {
      "text/plain": [
       "132"
      ]
     },
     "execution_count": 11,
     "metadata": {},
     "output_type": "execute_result"
    }
   ],
   "source": [
    "def calc_sum(a, b):`\n",
    "    sum = a + b\n",
    "    print(sum)\n",
    "    return sum\n",
    "calc_sum(5, 10)\n",
    "calc_sum(33, 99)\n"
   ]
  },
  {
   "cell_type": "code",
   "execution_count": 17,
   "id": "f49e1d22-5a57-480d-bd42-9e5427306689",
   "metadata": {},
   "outputs": [
    {
     "name": "stdout",
     "output_type": "stream",
     "text": [
      "100\n"
     ]
    },
    {
     "data": {
      "text/plain": [
       "100"
      ]
     },
     "execution_count": 17,
     "metadata": {},
     "output_type": "execute_result"
    }
   ],
   "source": [
    "def cal_sum(a, b):\n",
    "    sum = a + b\n",
    "    print(sum)\n",
    "    return sum\n",
    "cal_sum(50, 50)\n",
    "    "
   ]
  },
  {
   "cell_type": "code",
   "execution_count": 19,
   "id": "c9560a63-83b0-44d4-990d-af2bb497ae46",
   "metadata": {},
   "outputs": [
    {
     "data": {
      "text/plain": [
       "66"
      ]
     },
     "execution_count": 19,
     "metadata": {},
     "output_type": "execute_result"
    }
   ],
   "source": [
    "def calculate_sum(a, b):\n",
    "    return(a + b)\n",
    "calculate_sum(33, 33)"
   ]
  },
  {
   "cell_type": "code",
   "execution_count": 23,
   "id": "d790742c-f3c7-4e63-9fca-920e07720246",
   "metadata": {},
   "outputs": [
    {
     "name": "stdout",
     "output_type": "stream",
     "text": [
      "4\n"
     ]
    }
   ],
   "source": [
    "#this is function defination\n",
    "def cal_sum(a, b): #parameters\n",
    "    return(a + b)\n",
    "sum = cal_sum(2, 2) #function call &  1,2 is arguments\n",
    "print(sum)"
   ]
  },
  {
   "cell_type": "code",
   "execution_count": 29,
   "id": "1b0a71ea-bbfb-4863-ada8-1cbb19f688c6",
   "metadata": {},
   "outputs": [
    {
     "name": "stdout",
     "output_type": "stream",
     "text": [
      "hello\n",
      "hello\n"
     ]
    }
   ],
   "source": [
    "def print_hello():\n",
    "    print(\"hello\")\n",
    "print_hello()\n",
    "print_hello()"
   ]
  },
  {
   "cell_type": "code",
   "execution_count": 31,
   "id": "63841eb1-f9ad-460b-acb1-084a60b688b2",
   "metadata": {},
   "outputs": [
    {
     "name": "stdout",
     "output_type": "stream",
     "text": [
      "hello\n",
      "None\n"
     ]
    }
   ],
   "source": [
    "def print_hello():\n",
    "    print(\"hello\")\n",
    "output = print_hello()\n",
    "print(output)"
   ]
  },
  {
   "cell_type": "code",
   "execution_count": 33,
   "id": "0a8312c1-419c-4048-9344-b6773b2bd621",
   "metadata": {},
   "outputs": [
    {
     "name": "stdout",
     "output_type": "stream",
     "text": [
      "91.66666666666667\n"
     ]
    },
    {
     "data": {
      "text/plain": [
       "91.66666666666667"
      ]
     },
     "execution_count": 33,
     "metadata": {},
     "output_type": "execute_result"
    }
   ],
   "source": [
    "#average of 3 no\n",
    "def calc_avg(a, b, c):\n",
    "    sum = a + b + c\n",
    "    avg= sum / 3\n",
    "    print(avg)\n",
    "    return avg\n",
    "calc_avg(88, 88 , 99)\n",
    "    \n"
   ]
  },
  {
   "cell_type": "markdown",
   "id": "552e81ef-89a8-4828-9415-8446c5abdf50",
   "metadata": {},
   "source": [
    "#Types of Build in functions in python\n",
    "# 1.Build-in Functions -->print(),len(),type(),range()\n",
    "# 2.user defined functions\n",
    "print(\"THis is Nothing\", \"Aditya\") #sep = \" \"\n",
    "\n",
    "print(\"THis is Nothing\") #sep = \"\\n\"\n",
    "print(\"MAN\") #sep = \"\\n\"\n",
    "\n",
    "\n",
    "print(\"THis is Nothing\", end=\"$\") #sep = \" \"\n",
    "\n",
    "print(\"Aditya\", end=\"\\n\") #end = \"\\n\""
   ]
  },
  {
   "cell_type": "markdown",
   "id": "2ae3a5a3-61e3-4c65-948a-7efcaf96526a",
   "metadata": {},
   "source": [
    " #we pass or give a defaultvalues to your paratemeters so in case if we not pass any argument for thta it take that automaticaly"
   ]
  },
  {
   "cell_type": "code",
   "execution_count": 55,
   "id": "0df16672-0d12-47ac-9db7-dcec8d40cbac",
   "metadata": {},
   "outputs": [
    {
     "name": "stdout",
     "output_type": "stream",
     "text": [
      "1\n"
     ]
    },
    {
     "data": {
      "text/plain": [
       "1"
      ]
     },
     "execution_count": 55,
     "metadata": {},
     "output_type": "execute_result"
    }
   ],
   "source": [
    "def cal_prod(a=1, b=1):\n",
    "    print( a * b)\n",
    "    return(a * b)\n",
    "cal_prod()"
   ]
  },
  {
   "cell_type": "code",
   "execution_count": 66,
   "id": "aa53396e-9fd2-4f7f-bba3-f1a56b04c1a9",
   "metadata": {},
   "outputs": [
    {
     "name": "stdout",
     "output_type": "stream",
     "text": [
      "2\n"
     ]
    },
    {
     "data": {
      "text/plain": [
       "2"
      ]
     },
     "execution_count": 66,
     "metadata": {},
     "output_type": "execute_result"
    }
   ],
   "source": [
    "def cal_prod(a, b=1):#but we can not do the opposite of it we must have to decelear the last value parameter or default value\n",
    "    print( a * b)\n",
    "    return(a * b)\n",
    "cal_prod(2)"
   ]
  },
  {
   "cell_type": "markdown",
   "id": "42c1c8f7-fe02-4e0b-b79a-1a0b59b97004",
   "metadata": {},
   "source": [
    "# write a function(WAF)to print the length of a list.(list is the parameter)"
   ]
  },
  {
   "cell_type": "code",
   "execution_count": null,
   "id": "52819178-304c-44e8-8095-ee4fc54466b5",
   "metadata": {},
   "outputs": [],
   "source": [
    "cities = [\"Delhi\", \"Mumbai\", \"Ranchi\", \"Gurgaon\", \"Chennai\"]\n",
    "heroes = [\"Thor\", \"Shaktiman\", \"Captain America\", \"Nobita\"]\n",
    "\n",
    "def print_len(list):\n",
    "    print(len(list))\n",
    "\n",
    "print_len(cities)\n",
    "print_len(heroes)\n"
   ]
  },
  {
   "cell_type": "markdown",
   "id": "7bd7f0af-ff27-4d0b-8aac-350067267801",
   "metadata": {},
   "source": [
    "#WAF to  print the element of a list in a single line>(list is the parameter)."
   ]
  },
  {
   "cell_type": "markdown",
   "id": "a449d6c6-a6d7-447a-b23b-6b6b6f3a5aba",
   "metadata": {},
   "source": [
    "cities = [\"Delhi\", \"Mumbai\", \"Ranchi\", \"Gurgaon\", \"Chennai\"]\n",
    "heroes = [\"Thor\", \"Shaktiman\", \"Captain America\", \"Nobita\"]\n",
    "\n",
    "# print(heroes[0], end=\" \")\n",
    "# print(heroes[1], end=\" \")\n",
    "# OR\n",
    "\n",
    "def print_list(list):\n",
    "    for item in list:\n",
    "        print(item, end=\" \")\n",
    "        \n",
    "print_list(heroes)\n",
    "print_list (cities)"
   ]
  },
  {
   "cell_type": "markdown",
   "id": "cdddce55-47a0-49f8-99cc-b83a0abfa0aa",
   "metadata": {},
   "source": [
    "WAF to print the factorial of n.(n is the parameter)"
   ]
  },
  {
   "cell_type": "code",
   "execution_count": 100,
   "id": "f78cd160-63b2-4eba-a4d5-daf03e38eddb",
   "metadata": {},
   "outputs": [
    {
     "name": "stdout",
     "output_type": "stream",
     "text": [
      "120\n"
     ]
    }
   ],
   "source": [
    "# n = 5\n",
    "# for i in range(1, n+1):\n",
    "#     fact *= i\n",
    "# print(fact)\n",
    "n = 5\n",
    "def cal_fact(n):\n",
    "    fact = 1\n",
    "    for i in range(1, n+1):\n",
    "        fact *=i\n",
    "    print(fact)\n",
    "cal_fact(5)"
   ]
  },
  {
   "cell_type": "markdown",
   "id": "a40ed826-84ea-4b4c-8f7f-373cc051323a",
   "metadata": {},
   "source": [
    "#WAF TO CONVET USD to INR"
   ]
  },
  {
   "cell_type": "code",
   "execution_count": 103,
   "id": "3c73a39e-fea4-4ff8-acc4-6d730b513868",
   "metadata": {},
   "outputs": [
    {
     "name": "stdout",
     "output_type": "stream",
     "text": [
      "50 USD = 4150 INR\n"
     ]
    }
   ],
   "source": [
    "def converter(usd_val):\n",
    "    inr_val = usd_val * 83\n",
    "    print(usd_val, \"USD =\",inr_val, \"INR\")\n",
    "converter(50)"
   ]
  },
  {
   "cell_type": "markdown",
   "id": "5080f11d-3516-44f1-ad3f-c5e86df540a7",
   "metadata": {},
   "source": [
    "#Recursion\n",
    "when a function calls itself repetedely"
   ]
  },
  {
   "cell_type": "code",
   "execution_count": 108,
   "id": "58d638fb-b3c8-46a4-92f2-caa811a7a88a",
   "metadata": {},
   "outputs": [],
   "source": [
    "#prints n to 1 backwards\n",
    "def show(n):\n",
    "    if(n == 0):\n",
    "        return\n",
    "    print(n)\n",
    "    show(n-1)"
   ]
  },
  {
   "cell_type": "code",
   "execution_count": 8,
   "id": "dfacb4f1-781a-43c7-932b-3d78f7b2f179",
   "metadata": {},
   "outputs": [
    {
     "name": "stdout",
     "output_type": "stream",
     "text": [
      "5\n",
      "4\n",
      "3\n",
      "2\n",
      "1\n",
      "END\n",
      "END\n",
      "END\n",
      "END\n",
      "END\n"
     ]
    }
   ],
   "source": [
    "#recursive function\n",
    "def show(n):\n",
    "    if(n ==0): #base case to stop u can take (-1) at place of 0 to print 0 too otherwise it run infinite and ocupy the whole memory\n",
    "        return\n",
    "    print(n)\n",
    "    show(n-1)\n",
    "    print(\"END\")\n",
    "show(5) #5,4,3,2,1\n"
   ]
  },
  {
   "cell_type": "markdown",
   "id": "34b030db-5b35-4e5c-a278-70f2bbed3555",
   "metadata": {},
   "source": [
    "#Recursion\n",
    "\n",
    "n! = 1*2*3*4...*(n-1)*n OR--> n! = (n-1)!*n\n",
    "4! = 1*2*3*4\n",
    "3! = 1*2*3\n",
    "2! = 1*2\n",
    "OR 5! = 4! * 5\n",
    "\n",
    "#BY Default\n",
    "1! = 1\n",
    "0! = 1\n"
   ]
  },
  {
   "cell_type": "code",
   "execution_count": 12,
   "id": "30a40a62-5ec7-4ef0-a2e7-ce045d4af136",
   "metadata": {},
   "outputs": [],
   "source": [
    "#returns n!\n",
    "\n",
    "def fact(n):\n",
    "    if(n == 0 or n == 1):\n",
    "        return 1\n",
    "    else:\n",
    "        return n * fact(n-1)"
   ]
  },
  {
   "cell_type": "markdown",
   "id": "a9b5f429-3bd3-4b20-b35b-37121893b30f",
   "metadata": {},
   "source": [
    "# if you have to find -->fact(n) = fact(n-1)*n\n",
    "#             OR  \"   -->fact(n-1)=fact(n-2)*(n-1)"
   ]
  },
  {
   "cell_type": "code",
   "execution_count": 18,
   "id": "70b39a8d-eb35-411c-907b-41faee51be25",
   "metadata": {},
   "outputs": [
    {
     "name": "stdout",
     "output_type": "stream",
     "text": [
      "120\n"
     ]
    }
   ],
   "source": [
    "#to find factorial of n! or any\n",
    "\n",
    "def fact(n):\n",
    "    if(n == 1 or n == 0):\n",
    "        return 1\n",
    "    return fact(n-1)*n\n",
    "print(fact(5))\n",
    "        "
   ]
  },
  {
   "cell_type": "code",
   "execution_count": 22,
   "id": "d228e118-30d7-46f7-bf94-1e706cee0c29",
   "metadata": {},
   "outputs": [
    {
     "name": "stdout",
     "output_type": "stream",
     "text": [
      "15\n"
     ]
    }
   ],
   "source": [
    "# Write a recursive function to calculate the sum of first n natural numbers.\n",
    "def cal_sum(n):\n",
    "    if(n == 0):\n",
    "        return 0\n",
    "    return cal_sum(n-1) + n\n",
    "sum = cal_sum(5)\n",
    "print(sum)"
   ]
  },
  {
   "cell_type": "code",
   "execution_count": 24,
   "id": "d9f2cf37-06b3-4b85-ac4f-24160a8e4f77",
   "metadata": {},
   "outputs": [
    {
     "name": "stdout",
     "output_type": "stream",
     "text": [
      "Mango\n",
      "guave\n",
      "apple\n",
      "banana\n"
     ]
    }
   ],
   "source": [
    "#Write a recursive function to print all elements in a list.\n",
    "def print_list(list, idx=0):\n",
    "    if(idx == len(list)):\n",
    "        return\n",
    "    print(list[idx])\n",
    "    print_list(list, idx+1)\n",
    "\n",
    "fruits = ['Mango', \"guave\",\"apple\",\"banana\"]\n",
    "\n",
    "print_list(fruits)"
   ]
  },
  {
   "cell_type": "code",
   "execution_count": null,
   "id": "2649dad6-0bc0-42d9-be70-9e35e4838002",
   "metadata": {},
   "outputs": [],
   "source": []
  }
 ],
 "metadata": {
  "kernelspec": {
   "display_name": "Python 3 (ipykernel)",
   "language": "python",
   "name": "python3"
  },
  "language_info": {
   "codemirror_mode": {
    "name": "ipython",
    "version": 3
   },
   "file_extension": ".py",
   "mimetype": "text/x-python",
   "name": "python",
   "nbconvert_exporter": "python",
   "pygments_lexer": "ipython3",
   "version": "3.11.7"
  }
 },
 "nbformat": 4,
 "nbformat_minor": 5
}
